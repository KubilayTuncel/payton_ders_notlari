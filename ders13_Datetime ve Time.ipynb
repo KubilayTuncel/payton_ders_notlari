{
 "cells": [
  {
   "cell_type": "code",
   "execution_count": 1,
   "id": "e72a298b",
   "metadata": {},
   "outputs": [],
   "source": [
    "import datetime"
   ]
  },
  {
   "cell_type": "markdown",
   "id": "25b173d2",
   "metadata": {},
   "source": [
    "## datetime.date"
   ]
  },
  {
   "cell_type": "code",
   "execution_count": 2,
   "id": "18b7390d",
   "metadata": {},
   "outputs": [],
   "source": [
    "from datetime import date"
   ]
  },
  {
   "cell_type": "code",
   "execution_count": 3,
   "id": "087c8435",
   "metadata": {},
   "outputs": [
    {
     "data": {
      "text/plain": [
       "datetime.date(2022, 2, 24)"
      ]
     },
     "execution_count": 3,
     "metadata": {},
     "output_type": "execute_result"
    }
   ],
   "source": [
    "bugun = date.today()\n",
    "bugun"
   ]
  },
  {
   "cell_type": "code",
   "execution_count": 5,
   "id": "914e3e89",
   "metadata": {},
   "outputs": [
    {
     "data": {
      "text/plain": [
       "datetime.date(2020, 11, 22)"
      ]
     },
     "execution_count": 5,
     "metadata": {},
     "output_type": "execute_result"
    }
   ],
   "source": [
    "dun =date(2020,11,22)\n",
    "dun"
   ]
  },
  {
   "cell_type": "code",
   "execution_count": 6,
   "id": "a32860ec",
   "metadata": {},
   "outputs": [
    {
     "data": {
      "text/plain": [
       "datetime.date(2022, 2, 25)"
      ]
     },
     "execution_count": 6,
     "metadata": {},
     "output_type": "execute_result"
    }
   ],
   "source": [
    "yarin = bugun + datetime.timedelta(days = 1)\n",
    "yarin"
   ]
  },
  {
   "cell_type": "code",
   "execution_count": 7,
   "id": "deff603e",
   "metadata": {},
   "outputs": [
    {
     "data": {
      "text/plain": [
       "459"
      ]
     },
     "execution_count": 7,
     "metadata": {},
     "output_type": "execute_result"
    }
   ],
   "source": [
    "zaman_araligi = bugun - dun\n",
    "zaman_araligi.days"
   ]
  },
  {
   "cell_type": "code",
   "execution_count": 8,
   "id": "45605806",
   "metadata": {},
   "outputs": [
    {
     "data": {
      "text/plain": [
       "True"
      ]
     },
     "execution_count": 8,
     "metadata": {},
     "output_type": "execute_result"
    }
   ],
   "source": [
    "dun < bugun #karsilastirma yapip sonucu boolean olarak alabiliyorum"
   ]
  },
  {
   "cell_type": "code",
   "execution_count": 9,
   "id": "a440a35e",
   "metadata": {},
   "outputs": [
    {
     "data": {
      "text/plain": [
       "2"
      ]
     },
     "execution_count": 9,
     "metadata": {},
     "output_type": "execute_result"
    }
   ],
   "source": [
    "bugun.__getattribute__('month')"
   ]
  },
  {
   "cell_type": "code",
   "execution_count": 10,
   "id": "49295e87",
   "metadata": {},
   "outputs": [
    {
     "data": {
      "text/plain": [
       "2"
      ]
     },
     "execution_count": 10,
     "metadata": {},
     "output_type": "execute_result"
    }
   ],
   "source": [
    "bugun.month"
   ]
  },
  {
   "cell_type": "code",
   "execution_count": 11,
   "id": "e5345d1a",
   "metadata": {},
   "outputs": [
    {
     "data": {
      "text/plain": [
       "datetime.IsoCalendarDate(year=2022, week=8, weekday=4)"
      ]
     },
     "execution_count": 11,
     "metadata": {},
     "output_type": "execute_result"
    }
   ],
   "source": [
    "date.isocalendar(bugun)"
   ]
  },
  {
   "cell_type": "code",
   "execution_count": 12,
   "id": "fb4915dc",
   "metadata": {},
   "outputs": [
    {
     "data": {
      "text/plain": [
       "3"
      ]
     },
     "execution_count": 12,
     "metadata": {},
     "output_type": "execute_result"
    }
   ],
   "source": [
    "date.weekday(bugun) #weekday index olarak calisiyor ve 0 dan basliyor ama isocalendar 1 den basladi üst kisimda"
   ]
  },
  {
   "cell_type": "code",
   "execution_count": 13,
   "id": "b60967a0",
   "metadata": {},
   "outputs": [
    {
     "data": {
      "text/plain": [
       "'Thu Feb 24 00:00:00 2022'"
      ]
     },
     "execution_count": 13,
     "metadata": {},
     "output_type": "execute_result"
    }
   ],
   "source": [
    "date.ctime(bugun)"
   ]
  },
  {
   "cell_type": "markdown",
   "id": "024d002d",
   "metadata": {},
   "source": [
    "## datetime.time"
   ]
  },
  {
   "cell_type": "code",
   "execution_count": 14,
   "id": "cf87b18b",
   "metadata": {},
   "outputs": [],
   "source": [
    "from datetime import time"
   ]
  },
  {
   "cell_type": "code",
   "execution_count": 15,
   "id": "9ca04199",
   "metadata": {},
   "outputs": [
    {
     "name": "stdout",
     "output_type": "stream",
     "text": [
      "21:15:05\n"
     ]
    }
   ],
   "source": [
    "zaman = time (21,15,5)\n",
    "print(zaman)"
   ]
  },
  {
   "cell_type": "code",
   "execution_count": 16,
   "id": "f9198a1b",
   "metadata": {},
   "outputs": [
    {
     "name": "stdout",
     "output_type": "stream",
     "text": [
      "21\n",
      "15\n",
      "5\n"
     ]
    }
   ],
   "source": [
    "print(zaman.hour)\n",
    "print(zaman.minute)\n",
    "print(zaman.second)"
   ]
  },
  {
   "cell_type": "code",
   "execution_count": 17,
   "id": "bcd45de1",
   "metadata": {},
   "outputs": [
    {
     "name": "stdout",
     "output_type": "stream",
     "text": [
      "2022-02-01 21:02:32\n"
     ]
    }
   ],
   "source": [
    "dt =datetime.datetime (2022,2,1,21,2,32)\n",
    "print(dt)"
   ]
  },
  {
   "cell_type": "code",
   "execution_count": 19,
   "id": "08a21d67",
   "metadata": {},
   "outputs": [
    {
     "data": {
      "text/plain": [
       "1"
      ]
     },
     "execution_count": 19,
     "metadata": {},
     "output_type": "execute_result"
    }
   ],
   "source": [
    "dt.day"
   ]
  },
  {
   "cell_type": "markdown",
   "id": "4c88f3b7",
   "metadata": {},
   "source": [
    "### time"
   ]
  },
  {
   "cell_type": "code",
   "execution_count": 18,
   "id": "241d07b3",
   "metadata": {},
   "outputs": [],
   "source": [
    "import time"
   ]
  },
  {
   "cell_type": "code",
   "execution_count": 20,
   "id": "91cc1244",
   "metadata": {},
   "outputs": [
    {
     "data": {
      "text/plain": [
       "1645712544.1651552"
      ]
     },
     "execution_count": 20,
     "metadata": {},
     "output_type": "execute_result"
    }
   ],
   "source": [
    "time.time()"
   ]
  },
  {
   "cell_type": "code",
   "execution_count": 22,
   "id": "1660f9d8",
   "metadata": {},
   "outputs": [
    {
     "name": "stdout",
     "output_type": "stream",
     "text": [
      "Baslama Zamani:\t1645712763.3523111\n",
      "Bitis Zamani:\t1645712768.353823\n",
      "Calisma Süresi:\t5.001511812210083\n"
     ]
    }
   ],
   "source": [
    "baslangic_zamani = time.time()\n",
    "print(\"Baslama Zamani:\\t{}\".format(baslangic_zamani))\n",
    "time.sleep(5)\n",
    "bitis_zamani = time.time()\n",
    "print(\"Bitis Zamani:\\t{}\".format(bitis_zamani))\n",
    "print(\"Calisma Süresi:\\t{}\".format(bitis_zamani-baslangic_zamani))"
   ]
  }
 ],
 "metadata": {
  "kernelspec": {
   "display_name": "Python 3 (ipykernel)",
   "language": "python",
   "name": "python3"
  },
  "language_info": {
   "codemirror_mode": {
    "name": "ipython",
    "version": 3
   },
   "file_extension": ".py",
   "mimetype": "text/x-python",
   "name": "python",
   "nbconvert_exporter": "python",
   "pygments_lexer": "ipython3",
   "version": "3.9.7"
  }
 },
 "nbformat": 4,
 "nbformat_minor": 5
}
