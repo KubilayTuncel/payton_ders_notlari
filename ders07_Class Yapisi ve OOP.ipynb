{
 "cells": [
  {
   "cell_type": "raw",
   "id": "3fa1c77e",
   "metadata": {},
   "source": [
    "class <Class Ismi>():   ### class isimleri, genelin aksine büyük harfle baslar (zorunluluk degil)\n",
    "    \n",
    "    <class attr>        ### class attribute, olusturulanin aksine genel degerleri icerir\n",
    "    \n",
    "    def __init__(self, <attr>):         ### init, instantiation yani örneklendirmenin kisaltmasidir\n",
    "        self.<instance attr> = attr     ### instance attribute'lar, olusturulan örnege özgüdür\n",
    "        ...\n",
    "    \n",
    "    def <method>(self, <params>):       ### methodlar class'a özgü fonksiyonlardir\n",
    "        ...\n",
    "        return ... "
   ]
  },
  {
   "cell_type": "markdown",
   "id": "9c601084",
   "metadata": {},
   "source": [
    "### class Olusturma, Attribute'lar ve Method'lar"
   ]
  },
  {
   "cell_type": "code",
   "execution_count": 1,
   "id": "de1d72d7",
   "metadata": {},
   "outputs": [],
   "source": [
    "class Ucus():\n",
    "    havayolu=\"THY\""
   ]
  },
  {
   "cell_type": "code",
   "execution_count": 2,
   "id": "19499348",
   "metadata": {},
   "outputs": [],
   "source": [
    "ucus1 = Ucus()"
   ]
  },
  {
   "cell_type": "code",
   "execution_count": 4,
   "id": "ad6a4906",
   "metadata": {},
   "outputs": [
    {
     "data": {
      "text/plain": [
       "'THY'"
      ]
     },
     "execution_count": 4,
     "metadata": {},
     "output_type": "execute_result"
    }
   ],
   "source": [
    "ucus1.havayolu"
   ]
  },
  {
   "cell_type": "code",
   "execution_count": 8,
   "id": "378f5cb4",
   "metadata": {},
   "outputs": [],
   "source": [
    "class Ucus():\n",
    "    havayolu=\"THY\"\n",
    "    def __init__(self, kod, kalkis, varis, sure, kapasite, yolcu):\n",
    "        self.kod=kod\n",
    "        self.kalkis=kalkis\n",
    "        self.varis=varis\n",
    "        self.sure=sure\n",
    "        self.kapasite=kapasite\n",
    "        self.yolcu=yolcu"
   ]
  },
  {
   "cell_type": "code",
   "execution_count": 9,
   "id": "9d314232",
   "metadata": {},
   "outputs": [
    {
     "ename": "TypeError",
     "evalue": "__init__() missing 6 required positional arguments: 'kod', 'kalkis', 'varis', 'sure', 'kapasite', and 'yolcu'",
     "output_type": "error",
     "traceback": [
      "\u001b[0;31m---------------------------------------------------------------------------\u001b[0m",
      "\u001b[0;31mTypeError\u001b[0m                                 Traceback (most recent call last)",
      "\u001b[0;32m/var/folders/zr/gplv41sx3qv4dnmb67nn5kn00000gn/T/ipykernel_4186/956458480.py\u001b[0m in \u001b[0;36m<module>\u001b[0;34m\u001b[0m\n\u001b[0;32m----> 1\u001b[0;31m \u001b[0mucus2\u001b[0m\u001b[0;34m=\u001b[0m\u001b[0mUcus\u001b[0m\u001b[0;34m(\u001b[0m\u001b[0;34m)\u001b[0m\u001b[0;34m\u001b[0m\u001b[0;34m\u001b[0m\u001b[0m\n\u001b[0m",
      "\u001b[0;31mTypeError\u001b[0m: __init__() missing 6 required positional arguments: 'kod', 'kalkis', 'varis', 'sure', 'kapasite', and 'yolcu'"
     ]
    }
   ],
   "source": [
    "ucus2=Ucus()"
   ]
  },
  {
   "cell_type": "code",
   "execution_count": 10,
   "id": "69339dda",
   "metadata": {},
   "outputs": [],
   "source": [
    "ucus2=Ucus('TK123','IST','ANK',60, 300, 50)"
   ]
  },
  {
   "cell_type": "code",
   "execution_count": 11,
   "id": "f5e7a358",
   "metadata": {},
   "outputs": [
    {
     "data": {
      "text/plain": [
       "'ANK'"
      ]
     },
     "execution_count": 11,
     "metadata": {},
     "output_type": "execute_result"
    }
   ],
   "source": [
    "ucus2.varis"
   ]
  },
  {
   "cell_type": "code",
   "execution_count": 12,
   "id": "0a6dd7ac",
   "metadata": {},
   "outputs": [
    {
     "data": {
      "text/plain": [
       "'THY'"
      ]
     },
     "execution_count": 12,
     "metadata": {},
     "output_type": "execute_result"
    }
   ],
   "source": [
    "ucus2.havayolu"
   ]
  },
  {
   "cell_type": "code",
   "execution_count": 13,
   "id": "f7090bb4",
   "metadata": {},
   "outputs": [],
   "source": [
    "ucus3=Ucus('TK223','bod','ANt',60, 100, 100)"
   ]
  },
  {
   "cell_type": "code",
   "execution_count": 14,
   "id": "4f5a8f9a",
   "metadata": {},
   "outputs": [
    {
     "data": {
      "text/plain": [
       "'bod'"
      ]
     },
     "execution_count": 14,
     "metadata": {},
     "output_type": "execute_result"
    }
   ],
   "source": [
    "ucus3.kalkis"
   ]
  },
  {
   "cell_type": "code",
   "execution_count": 15,
   "id": "b73be070",
   "metadata": {},
   "outputs": [
    {
     "data": {
      "text/plain": [
       "'THY'"
      ]
     },
     "execution_count": 15,
     "metadata": {},
     "output_type": "execute_result"
    }
   ],
   "source": [
    "ucus3.havayolu"
   ]
  },
  {
   "cell_type": "code",
   "execution_count": 24,
   "id": "3293455a",
   "metadata": {},
   "outputs": [],
   "source": [
    "class Ucus():\n",
    "    havayolu=\"THY\"\n",
    "    def __init__(self, kod, kalkis, varis, sure, kapasite, yolcu):\n",
    "        self.kod=kod\n",
    "        self.kalkis=kalkis\n",
    "        self.varis=varis\n",
    "        self.sure=sure\n",
    "        self.kapasite=kapasite\n",
    "        self.yolcu=yolcu\n",
    "        \n",
    "    def anons_yap(self):\n",
    "        return \"{} sefer sayili {}-{} ucusumuz {} dakika sürecektir.\".format(\n",
    "        self.kod,\n",
    "        self.kalkis,\n",
    "        self.varis,\n",
    "        self.sure)"
   ]
  },
  {
   "cell_type": "code",
   "execution_count": 27,
   "id": "ad60a8e1",
   "metadata": {},
   "outputs": [],
   "source": [
    "ucus3=Ucus('TK223','Bod','ANt',60, 150, 100)"
   ]
  },
  {
   "cell_type": "code",
   "execution_count": 28,
   "id": "a1d4735a",
   "metadata": {},
   "outputs": [
    {
     "data": {
      "text/plain": [
       "'TK223 sefer sayili Bod-ANt ucusumuz 60 dakika sürecektir.'"
      ]
     },
     "execution_count": 28,
     "metadata": {},
     "output_type": "execute_result"
    }
   ],
   "source": [
    "ucus3.anons_yap()"
   ]
  },
  {
   "cell_type": "code",
   "execution_count": 48,
   "id": "407c12a9",
   "metadata": {},
   "outputs": [],
   "source": [
    "class Ucus():\n",
    "    havayolu=\"THY\"\n",
    "    def __init__(self, kod, kalkis, varis, sure, kapasite, yolcu):\n",
    "        self.kod=kod\n",
    "        self.kalkis=kalkis\n",
    "        self.varis=varis\n",
    "        self.sure=sure\n",
    "        self.kapasite=kapasite\n",
    "        self.yolcu=yolcu\n",
    "        \n",
    "    def anons_yap(self):\n",
    "        return \"{} sefer sayili {}-{} ucusumuz {} dakika sürecektir.\".format(\n",
    "        self.kod,\n",
    "        self.kalkis,\n",
    "        self.varis,\n",
    "        self.sure)\n",
    "   \n",
    "    def koltuk_sayisi_güncelle(self):\n",
    "        return self.kapasite-self.yolcu\n",
    "    \n",
    "    def bilet_satis(self, bilet_adedi=1):\n",
    "        if self.yolcu + bilet_adedi <= self.kapasite:\n",
    "            self.yolcu+=bilet_adedi\n",
    "            self.koltuk_sayisi_güncelle()\n",
    "            print('{} ader bilet satilmistir, kalan koltuk sayisi {}'.format(\n",
    "                bilet_adedi, self.koltuk_sayisi_güncelle()))\n",
    "        else:\n",
    "            print('Islem gercekletirilemedi. Yetersiz koltuk sayisi.')\n",
    "    \n",
    "    def bilet_iptal(self, bilet_adedi=1):\n",
    "        if self.yolcu >=bilet_adedi:\n",
    "            self.yolcu-=bilet_adedi\n",
    "            print('{} ader bilet iptal edilmistir, güncel koltuk sayisi {}'.format(\n",
    "                bilet_adedi, self.koltuk_sayisi_güncelle()))\n",
    "        else:\n",
    "            print('Islem gercekletirilemedi. Yetersiz koltuk sayisi.')"
   ]
  },
  {
   "cell_type": "code",
   "execution_count": 49,
   "id": "76f2959e",
   "metadata": {},
   "outputs": [],
   "source": [
    "ucus3=Ucus('TK223','Bod','ANt',60, 150, 100)"
   ]
  },
  {
   "cell_type": "code",
   "execution_count": 51,
   "id": "09e94784",
   "metadata": {},
   "outputs": [
    {
     "data": {
      "text/plain": [
       "51"
      ]
     },
     "execution_count": 51,
     "metadata": {},
     "output_type": "execute_result"
    }
   ],
   "source": [
    "ucus3.koltuk_sayisi_güncelle()"
   ]
  },
  {
   "cell_type": "code",
   "execution_count": 52,
   "id": "ebfe3679",
   "metadata": {},
   "outputs": [
    {
     "name": "stdout",
     "output_type": "stream",
     "text": [
      "5 ader bilet satilmistir, kalan koltuk sayisi 46\n"
     ]
    }
   ],
   "source": [
    "ucus3.bilet_satis(5)"
   ]
  },
  {
   "cell_type": "code",
   "execution_count": 53,
   "id": "95205146",
   "metadata": {},
   "outputs": [
    {
     "name": "stdout",
     "output_type": "stream",
     "text": [
      "Islem gercekletirilemedi. Yetersiz koltuk sayisi.\n"
     ]
    }
   ],
   "source": [
    "ucus3.bilet_satis(50)"
   ]
  },
  {
   "cell_type": "code",
   "execution_count": 54,
   "id": "4bd9a9f8",
   "metadata": {},
   "outputs": [
    {
     "name": "stdout",
     "output_type": "stream",
     "text": [
      "1 ader bilet iptal edilmistir, güncel koltuk sayisi 47\n"
     ]
    }
   ],
   "source": [
    "ucus3.bilet_iptal()"
   ]
  },
  {
   "cell_type": "markdown",
   "id": "291e5380",
   "metadata": {},
   "source": [
    "### Dunder Method'lar (Double Under Score)"
   ]
  },
  {
   "cell_type": "code",
   "execution_count": 56,
   "id": "1eb9a2ef",
   "metadata": {},
   "outputs": [],
   "source": [
    "class Ucus():\n",
    "    havayolu=\"THY\"\n",
    "    def __init__(self, kod, kalkis, varis, sure, kapasite, yolcu):\n",
    "        self.kod=kod\n",
    "        self.kalkis=kalkis\n",
    "        self.varis=varis\n",
    "        self.sure=sure\n",
    "        self.kapasite=kapasite\n",
    "        self.yolcu=yolcu\n",
    "        \n",
    "    def __repr__(self): #burada repr yazimi ucusu cairdigimizda verilmek istenen mesaj olusturmak icin kullanilan method\n",
    "        return \"{} sefer sayili ucus, sistemde olusturulmustur.\".format(self.kod)\n",
    "        \n",
    "    def anons_yap(self):\n",
    "        return \"{} sefer sayili {}-{} ucusumuz {} dakika sürecektir.\".format(\n",
    "        self.kod,\n",
    "        self.kalkis,\n",
    "        self.varis,\n",
    "        self.sure)\n",
    "   \n",
    "    def koltuk_sayisi_güncelle(self):\n",
    "        return self.kapasite-self.yolcu\n",
    "    \n",
    "    def bilet_satis(self, bilet_adedi=1):\n",
    "        if self.yolcu + bilet_adedi <= self.kapasite:\n",
    "            self.yolcu+=bilet_adedi\n",
    "            self.koltuk_sayisi_güncelle()\n",
    "            print('{} ader bilet satilmistir, kalan koltuk sayisi {}'.format(\n",
    "                bilet_adedi, self.koltuk_sayisi_güncelle()))\n",
    "        else:\n",
    "            print('Islem gercekletirilemedi. Yetersiz koltuk sayisi.')\n",
    "    \n",
    "    def bilet_iptal(self, bilet_adedi=1):\n",
    "        if self.yolcu >=bilet_adedi:\n",
    "            self.yolcu-=bilet_adedi\n",
    "            print('{} ader bilet iptal edilmistir, güncel koltuk sayisi {}'.format(\n",
    "                bilet_adedi, self.koltuk_sayisi_güncelle()))\n",
    "        else:\n",
    "            print('Islem gercekletirilemedi. Yetersiz koltuk sayisi.')"
   ]
  },
  {
   "cell_type": "code",
   "execution_count": 57,
   "id": "48271013",
   "metadata": {},
   "outputs": [],
   "source": [
    "ucus4=Ucus('TK456','Berlin','Tiflis',300,300,50)"
   ]
  },
  {
   "cell_type": "code",
   "execution_count": 58,
   "id": "a61e184b",
   "metadata": {},
   "outputs": [
    {
     "data": {
      "text/plain": [
       "TK456 sefer sayili ucus, sistemde olusturulmustur."
      ]
     },
     "execution_count": 58,
     "metadata": {},
     "output_type": "execute_result"
    }
   ],
   "source": [
    "ucus4"
   ]
  },
  {
   "cell_type": "code",
   "execution_count": 66,
   "id": "f7ba6c19",
   "metadata": {},
   "outputs": [],
   "source": [
    "class Seyahat():\n",
    "    def __init__(self,kalkis,varis):\n",
    "        self.kalkis=kalkis\n",
    "        self.varis=varis\n",
    "        \n",
    "    def anons(self):\n",
    "        return \"{}-{} seyahatine hosgeldiniz.\".format(self.kalkis,self.varis)\n",
    "    \n",
    "class Otobus(Seyahat):\n",
    "    def __init__(self,mola_duraklari, kalkis, varis):\n",
    "        Seyahat.__init__(self, kalkis, varis)\n",
    "        self.mola_duraklari = mola_duraklari"
   ]
  },
  {
   "cell_type": "code",
   "execution_count": 67,
   "id": "6b2670bf",
   "metadata": {},
   "outputs": [
    {
     "data": {
      "text/plain": [
       "'ANT-BOD seyahatine hosgeldiniz.'"
      ]
     },
     "execution_count": 67,
     "metadata": {},
     "output_type": "execute_result"
    }
   ],
   "source": [
    "seyahat1=Seyahat('ANT','BOD')\n",
    "seyahat1.anons()"
   ]
  },
  {
   "cell_type": "code",
   "execution_count": 68,
   "id": "acd61381",
   "metadata": {},
   "outputs": [],
   "source": [
    "oto1=Otobus(['FET','ALAN'], 'ANT','BOD')"
   ]
  },
  {
   "cell_type": "code",
   "execution_count": 71,
   "id": "9660ea7f",
   "metadata": {},
   "outputs": [
    {
     "data": {
      "text/plain": [
       "['FET', 'ALAN']"
      ]
     },
     "execution_count": 71,
     "metadata": {},
     "output_type": "execute_result"
    }
   ],
   "source": [
    "oto1.mola_duraklari"
   ]
  },
  {
   "cell_type": "code",
   "execution_count": 69,
   "id": "b6b09be5",
   "metadata": {},
   "outputs": [
    {
     "data": {
      "text/plain": [
       "'ANT'"
      ]
     },
     "execution_count": 69,
     "metadata": {},
     "output_type": "execute_result"
    }
   ],
   "source": [
    "oto1.kalkis"
   ]
  },
  {
   "cell_type": "code",
   "execution_count": 70,
   "id": "71d81fbf",
   "metadata": {},
   "outputs": [
    {
     "data": {
      "text/plain": [
       "'ANT-BOD seyahatine hosgeldiniz.'"
      ]
     },
     "execution_count": 70,
     "metadata": {},
     "output_type": "execute_result"
    }
   ],
   "source": [
    "oto1.anons()"
   ]
  }
 ],
 "metadata": {
  "kernelspec": {
   "display_name": "Python 3 (ipykernel)",
   "language": "python",
   "name": "python3"
  },
  "language_info": {
   "codemirror_mode": {
    "name": "ipython",
    "version": 3
   },
   "file_extension": ".py",
   "mimetype": "text/x-python",
   "name": "python",
   "nbconvert_exporter": "python",
   "pygments_lexer": "ipython3",
   "version": "3.9.7"
  }
 },
 "nbformat": 4,
 "nbformat_minor": 5
}
