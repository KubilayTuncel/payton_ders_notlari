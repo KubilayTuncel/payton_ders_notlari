{
 "cells": [
  {
   "cell_type": "markdown",
   "id": "2d08f064",
   "metadata": {},
   "source": [
    "# If Sorgulari"
   ]
  },
  {
   "cell_type": "raw",
   "id": "f0e1c805",
   "metadata": {},
   "source": [
    "#Kullanim Senoryosu-1:\n",
    "if <Kosul saglaniyorsa>\n",
    "    <burada yazilani yap>"
   ]
  },
  {
   "cell_type": "code",
   "execution_count": 2,
   "id": "b2c77533",
   "metadata": {},
   "outputs": [],
   "source": [
    "hava_durumu ='karli'\n",
    "if hava_durumu =='yagisli':\n",
    "    print (\"semsiyeni al!\")"
   ]
  },
  {
   "cell_type": "raw",
   "id": "e81b1323",
   "metadata": {},
   "source": [
    "#Kullanim Senaryosu-2:\n",
    "if <kosul sagliyorsa>:\n",
    "<burada yazilani yap>\n",
    "else:\n",
    "<burada yazilani yap>"
   ]
  },
  {
   "cell_type": "code",
   "execution_count": 5,
   "id": "def464f2",
   "metadata": {},
   "outputs": [
    {
     "name": "stdout",
     "output_type": "stream",
     "text": [
      "Sorun yok\n"
     ]
    }
   ],
   "source": [
    "hava_durumu=\"gunesli\"\n",
    "if hava_durumu =='yagisli':\n",
    "    print('Semsiyeni al!')\n",
    "else:\n",
    "    print (\"Sorun yok\")"
   ]
  },
  {
   "cell_type": "raw",
   "id": "90a11b6c",
   "metadata": {},
   "source": [
    "Kullanim Senaryosu-3:\n",
    "if <kosul sagliyorsa>\n",
    "<burada yazilani yap>\n",
    "elif <alternatif kosul sagliyorsa>:\n",
    "<burada yazilani yap>\n",
    "else :\n",
    "<burada yazilani yap>"
   ]
  },
  {
   "cell_type": "code",
   "execution_count": 7,
   "id": "7e7e0343",
   "metadata": {},
   "outputs": [
    {
     "name": "stdout",
     "output_type": "stream",
     "text": [
      "Sorun yok\n"
     ]
    }
   ],
   "source": [
    "hava_durumu=\"gunesli\"\n",
    "if hava_durumu =='yagisli':\n",
    "    print('Semsiyeni al!')\n",
    "elif hava_durumu=='karli' :\n",
    "    print('Atkini al!')\n",
    "else:\n",
    "    print (\"Sorun yok\")"
   ]
  },
  {
   "cell_type": "code",
   "execution_count": 12,
   "id": "d768e9f5",
   "metadata": {},
   "outputs": [
    {
     "name": "stdout",
     "output_type": "stream",
     "text": [
      "Sen buraya ait degilsin\n"
     ]
    }
   ],
   "source": [
    "yas = 17\n",
    "if yas > 18 :\n",
    "    print('Selam')\n",
    "else :\n",
    "    print('Sen buraya ait degilsin')"
   ]
  },
  {
   "cell_type": "code",
   "execution_count": 13,
   "id": "f59c8d49",
   "metadata": {},
   "outputs": [
    {
     "name": "stdout",
     "output_type": "stream",
     "text": [
      "liste ekledim\n",
      "Güncel Liste ['a', 'b', 'c', 'd']\n"
     ]
    }
   ],
   "source": [
    "liste =['a','b','c']\n",
    "hedef_harf = 'd'\n",
    "if hedef_harf in liste :\n",
    "    print ('buldum')\n",
    "else :\n",
    "    liste.append(hedef_harf)\n",
    "    print('liste ekledim')\n",
    "    print('Güncel Liste {}'.format(liste))"
   ]
  },
  {
   "cell_type": "code",
   "execution_count": 14,
   "id": "5600c3e8",
   "metadata": {},
   "outputs": [
    {
     "name": "stdout",
     "output_type": "stream",
     "text": [
      "buldum ama ilk konumda degil\n"
     ]
    }
   ],
   "source": [
    "if hedef_harf in liste and hedef_harf==liste[0]:\n",
    "    print ('buldum ve ilk harf konumunda')\n",
    "elif hedef_harf in liste :\n",
    "    print('buldum ama ilk konumda degil')\n",
    "else :\n",
    "    liste.append(hedef_harf)\n",
    "    print('liste ekledim')\n",
    "    print('Güncel Liste {}'.format(liste))"
   ]
  },
  {
   "cell_type": "markdown",
   "id": "1d4487bd",
   "metadata": {},
   "source": [
    "# for Döngüleri"
   ]
  },
  {
   "cell_type": "code",
   "execution_count": 15,
   "id": "bcb8e1a1",
   "metadata": {},
   "outputs": [],
   "source": [
    "#Kullanim yapisi\n",
    "#for <degisken> in <iterable>\n",
    "#<buraya yazilani yap>"
   ]
  },
  {
   "cell_type": "code",
   "execution_count": 16,
   "id": "07ccd722",
   "metadata": {},
   "outputs": [],
   "source": [
    "yorum_birakanlar = [\"Ismail Aydemir\",\"Uygar Aydin\",\"Naz Yazcioglu\",\"Ferhat ibrik\",\"Ulus Acil\",\"Bilal Kurucay\"]"
   ]
  },
  {
   "cell_type": "code",
   "execution_count": 17,
   "id": "2642ca5c",
   "metadata": {},
   "outputs": [
    {
     "name": "stdout",
     "output_type": "stream",
     "text": [
      "Ismail Aydemir\n",
      "Uygar Aydin\n",
      "Naz Yazcioglu\n",
      "Ferhat ibrik\n",
      "Ulus Acil\n",
      "Bilal Kurucay\n"
     ]
    }
   ],
   "source": [
    "for kullanici in yorum_birakanlar:\n",
    "    print(kullanici)"
   ]
  },
  {
   "cell_type": "code",
   "execution_count": 21,
   "id": "098ed5cc",
   "metadata": {},
   "outputs": [
    {
     "name": "stdout",
     "output_type": "stream",
     "text": [
      "1 Ismail Aydemir\n",
      "2 Uygar Aydin\n",
      "3 Naz Yazcioglu\n",
      "4 Ferhat ibrik\n",
      "5 Ulus Acil\n",
      "6 Bilal Kurucay\n"
     ]
    }
   ],
   "source": [
    "kullanici_sayisi =0\n",
    "for kullanici in yorum_birakanlar :\n",
    "    kullanici_sayisi+=1\n",
    "    print(kullanici_sayisi, kullanici)"
   ]
  },
  {
   "cell_type": "code",
   "execution_count": 22,
   "id": "46ace2e3",
   "metadata": {},
   "outputs": [
    {
     "data": {
      "text/plain": [
       "['Ismail', 'Aydemir']"
      ]
     },
     "execution_count": 22,
     "metadata": {},
     "output_type": "execute_result"
    }
   ],
   "source": [
    "yorum_birakanlar[0].split()"
   ]
  },
  {
   "cell_type": "code",
   "execution_count": 23,
   "id": "acae07c5",
   "metadata": {},
   "outputs": [
    {
     "name": "stdout",
     "output_type": "stream",
     "text": [
      "1. Kullanicinin Adi Ismail ve Soyadi Aydemir\n",
      "2. Kullanicinin Adi Uygar ve Soyadi Aydin\n",
      "3. Kullanicinin Adi Naz ve Soyadi Yazcioglu\n",
      "4. Kullanicinin Adi Ferhat ve Soyadi ibrik\n",
      "5. Kullanicinin Adi Ulus ve Soyadi Acil\n",
      "6. Kullanicinin Adi Bilal ve Soyadi Kurucay\n"
     ]
    }
   ],
   "source": [
    "kullanici_sayisi =0\n",
    "for kullanici in yorum_birakanlar :\n",
    "    kullanici_sayisi+=1\n",
    "    ad, soyad= kullanici.split()[0],kullanici.split()[1]\n",
    "    print('{0}. Kullanicinin Adi {1} ve Soyadi {2}'.format(kullanici_sayisi, ad, soyad))"
   ]
  },
  {
   "cell_type": "code",
   "execution_count": 40,
   "id": "1e1c20cf",
   "metadata": {},
   "outputs": [
    {
     "name": "stdout",
     "output_type": "stream",
     "text": [
      "1. Kullanicinin Adi Ismail ve Soyadi Aydemir\n",
      "2. Kullanicinin Adi Uygar ve Soyadi Aydin\n",
      "3. Kullanicinin Adi Naz ve Soyadi Yazcioglu\n",
      "1. Moderatörün Adi Ferhat ve Soyadi ibrik\n",
      "4. Kullanicinin Adi Ulus ve Soyadi Acil\n",
      "5. Kullanicinin Adi Bilal ve Soyadi Kurucay\n"
     ]
    }
   ],
   "source": [
    "moderator = \"Ferhat ibrik\"\n",
    "\n",
    "moderator_sayisi= 0\n",
    "kullanici_sayisi =0\n",
    "for kullanici in yorum_birakanlar :\n",
    "    ad, soyad= kullanici.split()[0],kullanici.split()[1]\n",
    "    \n",
    "    if (kullanici == moderator):\n",
    "        moderator_sayisi+=1\n",
    "        print('{0}. Moderatörün Adi {1} ve Soyadi {2}'.format(moderator_sayisi, ad, soyad))\n",
    "    else:\n",
    "        kullanici_sayisi+=1\n",
    "        print('{0}. Kullanicinin Adi {1} ve Soyadi {2}'.format(kullanici_sayisi, ad, soyad))"
   ]
  },
  {
   "cell_type": "markdown",
   "id": "56ab4566",
   "metadata": {},
   "source": [
    "# Diger Iterable Objelerde for Döngüleri"
   ]
  },
  {
   "cell_type": "code",
   "execution_count": 41,
   "id": "b993b9a7",
   "metadata": {},
   "outputs": [
    {
     "name": "stdout",
     "output_type": "stream",
     "text": [
      "1\n",
      "3\n",
      "5\n",
      "7\n"
     ]
    }
   ],
   "source": [
    "tup1=(1,3,5,7)\n",
    "for sayi in tup1:\n",
    "    print(sayi)"
   ]
  },
  {
   "cell_type": "code",
   "execution_count": 43,
   "id": "a67563eb",
   "metadata": {},
   "outputs": [
    {
     "name": "stdout",
     "output_type": "stream",
     "text": [
      "1\n",
      "3\n",
      "5\n",
      "a\n"
     ]
    }
   ],
   "source": [
    "liste = [[1,2],[3,4],[5,6],['a','b']]\n",
    "for x,y in liste :\n",
    "    print(x)"
   ]
  },
  {
   "cell_type": "code",
   "execution_count": 44,
   "id": "95ea0541",
   "metadata": {},
   "outputs": [
    {
     "name": "stdout",
     "output_type": "stream",
     "text": [
      "1 2\n",
      "3 4\n",
      "5 6\n"
     ]
    }
   ],
   "source": [
    "liste = [[1,2],[3,4],[5,6]]\n",
    "for x,y in liste :\n",
    "    print(x,y)"
   ]
  },
  {
   "cell_type": "code",
   "execution_count": 45,
   "id": "1b209dba",
   "metadata": {},
   "outputs": [
    {
     "name": "stdout",
     "output_type": "stream",
     "text": [
      "2\n",
      "12\n",
      "30\n"
     ]
    }
   ],
   "source": [
    "liste = [[1,2],[3,4],[5,6]]\n",
    "for x,y in liste :\n",
    "    print(x*y)"
   ]
  },
  {
   "cell_type": "code",
   "execution_count": 46,
   "id": "013cbde6",
   "metadata": {},
   "outputs": [
    {
     "data": {
      "text/plain": [
       "dict_items([('ad', 'Naz'), ('soyad', 'Yagcioglu')])"
      ]
     },
     "execution_count": 46,
     "metadata": {},
     "output_type": "execute_result"
    }
   ],
   "source": [
    "kullanici1 ={\n",
    "    'ad' : 'Naz',\n",
    "    'soyad' : 'Yagcioglu'\n",
    "}\n",
    "kullanici1.items()"
   ]
  },
  {
   "cell_type": "code",
   "execution_count": 48,
   "id": "01d22429",
   "metadata": {},
   "outputs": [
    {
     "name": "stdout",
     "output_type": "stream",
     "text": [
      "Key: ad \t Value: Naz\n",
      "Key: soyad \t Value: Yagcioglu\n"
     ]
    }
   ],
   "source": [
    "for k, v in kullanici1.items():\n",
    "    print(\"Key: {} \\t Value: {}\".format(k,v))"
   ]
  },
  {
   "cell_type": "code",
   "execution_count": 50,
   "id": "cdd68a10",
   "metadata": {},
   "outputs": [
    {
     "name": "stdout",
     "output_type": "stream",
     "text": [
      "Key: ad\n",
      "Key: soyad\n"
     ]
    }
   ],
   "source": [
    "for k in kullanici1.keys():\n",
    "    print(\"Key: {}\".format(k))"
   ]
  },
  {
   "cell_type": "markdown",
   "id": "44ea739c",
   "metadata": {},
   "source": [
    "# while Döngüleri"
   ]
  },
  {
   "cell_type": "code",
   "execution_count": null,
   "id": "6187641b",
   "metadata": {},
   "outputs": [],
   "source": [
    "#Kullanim Yapisi\n",
    "# while <sart dogruyken>:\n",
    "#.   burada yazilani yap"
   ]
  },
  {
   "cell_type": "code",
   "execution_count": 53,
   "id": "6b64a5d7",
   "metadata": {},
   "outputs": [
    {
     "name": "stdout",
     "output_type": "stream",
     "text": [
      "0 degeri 10'dan kucuktur\n",
      "1 degeri 10'dan kucuktur\n",
      "2 degeri 10'dan kucuktur\n",
      "3 degeri 10'dan kucuktur\n",
      "4 degeri 10'dan kucuktur\n",
      "5 degeri 10'dan kucuktur\n",
      "6 degeri 10'dan kucuktur\n",
      "7 degeri 10'dan kucuktur\n",
      "8 degeri 10'dan kucuktur\n",
      "9 degeri 10'dan kucuktur\n"
     ]
    }
   ],
   "source": [
    "x=0\n",
    "while x < 10 :\n",
    "    print (\"{} degeri 10'dan kucuktur\".format(x))\n",
    "    x+=1"
   ]
  },
  {
   "cell_type": "code",
   "execution_count": null,
   "id": "767b965c",
   "metadata": {},
   "outputs": [],
   "source": [
    "#Kullanim Yapisi\n",
    "#while <sart dogruyken>:\n",
    "#.  <burada yazilani yap>\n",
    "#else :\n",
    "#   <burada yazilani yap>"
   ]
  },
  {
   "cell_type": "code",
   "execution_count": 54,
   "id": "21fbb71a",
   "metadata": {},
   "outputs": [
    {
     "name": "stdout",
     "output_type": "stream",
     "text": [
      "0 degeri 10'dan kucuktur\n",
      "1 degeri 10'dan kucuktur\n",
      "2 degeri 10'dan kucuktur\n",
      "3 degeri 10'dan kucuktur\n",
      "4 degeri 10'dan kucuktur\n",
      "5 degeri 10'dan kucuktur\n",
      "6 degeri 10'dan kucuktur\n",
      "7 degeri 10'dan kucuktur\n",
      "8 degeri 10'dan kucuktur\n",
      "9 degeri 10'dan kucuktur\n",
      "10 degeri 10'dan kucuk degil\n"
     ]
    }
   ],
   "source": [
    "x=0\n",
    "while x < 10 :\n",
    "    print (\"{} degeri 10'dan kucuktur\".format(x))\n",
    "    x+=1\n",
    "else:\n",
    "    print(\"{} degeri 10'dan kucuk degil\".format(x))"
   ]
  },
  {
   "cell_type": "code",
   "execution_count": 55,
   "id": "33973dc4",
   "metadata": {},
   "outputs": [
    {
     "name": "stdout",
     "output_type": "stream",
     "text": [
      "720\n"
     ]
    }
   ],
   "source": [
    "sayi=6\n",
    "sonuc = 1\n",
    "while sayi > 0 :\n",
    "    sonuc = sonuc*sayi\n",
    "    sayi -=1\n",
    "    \n",
    "print(sonuc)\n"
   ]
  },
  {
   "cell_type": "markdown",
   "id": "150f3230",
   "metadata": {},
   "source": [
    "# range"
   ]
  },
  {
   "cell_type": "code",
   "execution_count": 59,
   "id": "2fd4d59e",
   "metadata": {},
   "outputs": [
    {
     "data": {
      "text/plain": [
       "range(0, 10)"
      ]
     },
     "execution_count": 59,
     "metadata": {},
     "output_type": "execute_result"
    }
   ],
   "source": [
    "range(10)"
   ]
  },
  {
   "cell_type": "code",
   "execution_count": 60,
   "id": "e05268ac",
   "metadata": {},
   "outputs": [
    {
     "data": {
      "text/plain": [
       "[0, 1, 2, 3, 4, 5, 6, 7, 8, 9]"
      ]
     },
     "execution_count": 60,
     "metadata": {},
     "output_type": "execute_result"
    }
   ],
   "source": [
    "list(range(10))"
   ]
  },
  {
   "cell_type": "code",
   "execution_count": 61,
   "id": "ae59723e",
   "metadata": {},
   "outputs": [
    {
     "data": {
      "text/plain": [
       "[0, 1, 2, 3, 4, 5, 6, 7, 8, 9]"
      ]
     },
     "execution_count": 61,
     "metadata": {},
     "output_type": "execute_result"
    }
   ],
   "source": [
    "[*range(10)]"
   ]
  },
  {
   "cell_type": "code",
   "execution_count": 62,
   "id": "38b11288",
   "metadata": {},
   "outputs": [
    {
     "data": {
      "text/plain": [
       "[2, 4, 6]"
      ]
     },
     "execution_count": 62,
     "metadata": {},
     "output_type": "execute_result"
    }
   ],
   "source": [
    "[*range(2,7,2)] #ilk sayi baslangic, ikinci sayi bitis sayisi, 3. sayi atlama sayisi oluyor"
   ]
  },
  {
   "cell_type": "code",
   "execution_count": 65,
   "id": "66f8d66c",
   "metadata": {},
   "outputs": [
    {
     "name": "stdout",
     "output_type": "stream",
     "text": [
      "6\n",
      "7\n",
      "8\n",
      "9\n"
     ]
    }
   ],
   "source": [
    "for sayi in range(10) :\n",
    "    if sayi>5 :\n",
    "        print(sayi)"
   ]
  },
  {
   "cell_type": "markdown",
   "id": "aec59165",
   "metadata": {},
   "source": [
    "# enumerate"
   ]
  },
  {
   "cell_type": "code",
   "execution_count": 67,
   "id": "eac8e260",
   "metadata": {},
   "outputs": [
    {
     "name": "stdout",
     "output_type": "stream",
     "text": [
      "(0, 'a')\n",
      "(1, 'b')\n",
      "(2, 'c')\n",
      "(3, 'd')\n",
      "(4, 'e')\n"
     ]
    }
   ],
   "source": [
    "harfler =['a','b','c','d','e']\n",
    "for harf in enumerate(harfler) :\n",
    "    print(harf)"
   ]
  },
  {
   "cell_type": "code",
   "execution_count": 69,
   "id": "bfd26760",
   "metadata": {},
   "outputs": [
    {
     "name": "stdout",
     "output_type": "stream",
     "text": [
      "1. harf: a\n",
      "2. harf: b\n",
      "3. harf: c\n",
      "4. harf: d\n",
      "5. harf: e\n"
     ]
    }
   ],
   "source": [
    "for index, harf in enumerate(harfler):\n",
    "    print(\"{}. harf: {}\".format(index+1,harf))"
   ]
  },
  {
   "cell_type": "markdown",
   "id": "c6a24b0f",
   "metadata": {},
   "source": [
    "# zip"
   ]
  },
  {
   "cell_type": "code",
   "execution_count": 70,
   "id": "9e05c197",
   "metadata": {},
   "outputs": [
    {
     "name": "stdout",
     "output_type": "stream",
     "text": [
      "('TR', 1)\n",
      "('FR', 2)\n",
      "('DE', 3)\n"
     ]
    }
   ],
   "source": [
    "ulkeler = ['TR','FR','DE']\n",
    "siralamalar = range(1,4)\n",
    "for ulke in zip(ulkeler,siralamalar):\n",
    "    print(ulke)"
   ]
  },
  {
   "cell_type": "markdown",
   "id": "ae89e655",
   "metadata": {},
   "source": [
    "# break"
   ]
  },
  {
   "cell_type": "code",
   "execution_count": 76,
   "id": "b64222d2",
   "metadata": {},
   "outputs": [
    {
     "name": "stdout",
     "output_type": "stream",
     "text": [
      "c harfi 2. indexte!\n"
     ]
    }
   ],
   "source": [
    "harfler =['a','b','c','d','e']*100\n",
    "for index,harf in enumerate(harfler):\n",
    "    if harf=='c':\n",
    "        print('{} harfi {}. indexte!'.format(harf, index))\n",
    "        break"
   ]
  },
  {
   "cell_type": "markdown",
   "id": "226c79b9",
   "metadata": {},
   "source": [
    "# contunie"
   ]
  },
  {
   "cell_type": "code",
   "execution_count": 78,
   "id": "a2347514",
   "metadata": {},
   "outputs": [
    {
     "name": "stdout",
     "output_type": "stream",
     "text": [
      "1\n",
      "3\n",
      "5\n"
     ]
    }
   ],
   "source": [
    "for sayi in range(1,6):\n",
    "    if sayi%2==0:\n",
    "        continue\n",
    "    print(sayi)"
   ]
  },
  {
   "cell_type": "markdown",
   "id": "b9fe4e86",
   "metadata": {},
   "source": [
    "# pass"
   ]
  },
  {
   "cell_type": "code",
   "execution_count": 79,
   "id": "742fe2f5",
   "metadata": {},
   "outputs": [
    {
     "name": "stdout",
     "output_type": "stream",
     "text": [
      "1\n",
      "3\n",
      "5\n"
     ]
    }
   ],
   "source": [
    "for sayi in range(1,6):\n",
    "    if sayi%2==0:\n",
    "        pass\n",
    "    else:\n",
    "        print(sayi)"
   ]
  },
  {
   "cell_type": "code",
   "execution_count": 80,
   "id": "9039baf0",
   "metadata": {},
   "outputs": [
    {
     "name": "stdout",
     "output_type": "stream",
     "text": [
      "Hey\n"
     ]
    }
   ],
   "source": [
    "if sayi<5:\n",
    "    pass\n",
    "else:\n",
    "    print(\"Hey\")"
   ]
  }
 ],
 "metadata": {
  "kernelspec": {
   "display_name": "Python 3 (ipykernel)",
   "language": "python",
   "name": "python3"
  },
  "language_info": {
   "codemirror_mode": {
    "name": "ipython",
    "version": 3
   },
   "file_extension": ".py",
   "mimetype": "text/x-python",
   "name": "python",
   "nbconvert_exporter": "python",
   "pygments_lexer": "ipython3",
   "version": "3.9.7"
  }
 },
 "nbformat": 4,
 "nbformat_minor": 5
}
