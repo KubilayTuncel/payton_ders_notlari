{
 "cells": [
  {
   "cell_type": "markdown",
   "id": "13c08119",
   "metadata": {},
   "source": [
    "## Decorator prensibi"
   ]
  },
  {
   "cell_type": "raw",
   "id": "8bac1cca",
   "metadata": {},
   "source": [
    "@decorator\n",
    "def ..."
   ]
  },
  {
   "cell_type": "markdown",
   "id": "c83df77c",
   "metadata": {},
   "source": [
    "## Degisken olarak fonsiyon "
   ]
  },
  {
   "cell_type": "code",
   "execution_count": 1,
   "id": "babf85bc",
   "metadata": {},
   "outputs": [],
   "source": [
    "def deneme():\n",
    "    print('abc')"
   ]
  },
  {
   "cell_type": "code",
   "execution_count": 2,
   "id": "a75e776b",
   "metadata": {},
   "outputs": [
    {
     "name": "stdout",
     "output_type": "stream",
     "text": [
      "abc\n"
     ]
    }
   ],
   "source": [
    "deneme()"
   ]
  },
  {
   "cell_type": "code",
   "execution_count": 3,
   "id": "e47b63c7",
   "metadata": {},
   "outputs": [],
   "source": [
    "f=deneme"
   ]
  },
  {
   "cell_type": "code",
   "execution_count": 4,
   "id": "e7bbcecc",
   "metadata": {},
   "outputs": [
    {
     "name": "stdout",
     "output_type": "stream",
     "text": [
      "abc\n"
     ]
    }
   ],
   "source": [
    "f()"
   ]
  },
  {
   "cell_type": "markdown",
   "id": "40acb750",
   "metadata": {},
   "source": [
    "## Fonsiyon icinde fonksiyon"
   ]
  },
  {
   "cell_type": "code",
   "execution_count": 6,
   "id": "3147248a",
   "metadata": {},
   "outputs": [],
   "source": [
    "def deneme():\n",
    "    print(\"deneme fonksiyonu calisiyor\")\n",
    "    def test():\n",
    "        return \"test fonksiyonu calisiyor\"\n",
    "    print(test())"
   ]
  },
  {
   "cell_type": "code",
   "execution_count": 7,
   "id": "c1edff69",
   "metadata": {},
   "outputs": [
    {
     "name": "stdout",
     "output_type": "stream",
     "text": [
      "deneme fonksiyonu calisiyor\n",
      "test fonksiyonu calisiyor\n"
     ]
    }
   ],
   "source": [
    "deneme()"
   ]
  },
  {
   "cell_type": "code",
   "execution_count": 8,
   "id": "b52f80a9",
   "metadata": {},
   "outputs": [],
   "source": [
    "def deneme():\n",
    "    print(\"deneme fonksiyonu calisiyor\")\n",
    "    def test():\n",
    "        return \"test fonksiyonu calisiyor\"\n",
    "    return test"
   ]
  },
  {
   "cell_type": "code",
   "execution_count": 9,
   "id": "13466fc9",
   "metadata": {},
   "outputs": [
    {
     "name": "stdout",
     "output_type": "stream",
     "text": [
      "deneme fonksiyonu calisiyor\n"
     ]
    },
    {
     "data": {
      "text/plain": [
       "<function __main__.deneme.<locals>.test()>"
      ]
     },
     "execution_count": 9,
     "metadata": {},
     "output_type": "execute_result"
    }
   ],
   "source": [
    "deneme()"
   ]
  },
  {
   "cell_type": "code",
   "execution_count": 10,
   "id": "bc9566b9",
   "metadata": {},
   "outputs": [
    {
     "name": "stdout",
     "output_type": "stream",
     "text": [
      "deneme fonksiyonu calisiyor\n"
     ]
    },
    {
     "data": {
      "text/plain": [
       "'test fonksiyonu calisiyor'"
      ]
     },
     "execution_count": 10,
     "metadata": {},
     "output_type": "execute_result"
    }
   ],
   "source": [
    "f=deneme()\n",
    "f()"
   ]
  },
  {
   "cell_type": "markdown",
   "id": "373a1113",
   "metadata": {},
   "source": [
    "## Decorator"
   ]
  },
  {
   "cell_type": "code",
   "execution_count": 11,
   "id": "679538d9",
   "metadata": {},
   "outputs": [],
   "source": [
    "def deneme():\n",
    "    return \"deneme fonksiyonu calisiyor\""
   ]
  },
  {
   "cell_type": "code",
   "execution_count": 12,
   "id": "6815c135",
   "metadata": {},
   "outputs": [],
   "source": [
    "def ikinci(f):\n",
    "    print(\"ikinci fonksiyon calisiyor\")\n",
    "    \n",
    "    print(f())"
   ]
  },
  {
   "cell_type": "code",
   "execution_count": 13,
   "id": "86cf4d2c",
   "metadata": {},
   "outputs": [
    {
     "name": "stdout",
     "output_type": "stream",
     "text": [
      "ikinci fonksiyon calisiyor\n",
      "deneme fonksiyonu calisiyor\n"
     ]
    }
   ],
   "source": [
    "ikinci(deneme)"
   ]
  },
  {
   "cell_type": "code",
   "execution_count": 14,
   "id": "90584bab",
   "metadata": {},
   "outputs": [],
   "source": [
    "def deco(f):\n",
    "    def wrapper():\n",
    "        print(\"Baslangic\")\n",
    "        \n",
    "        f()\n",
    "        \n",
    "        print(\"Bitis\")\n",
    "        \n",
    "    return wrapper\n"
   ]
  },
  {
   "cell_type": "code",
   "execution_count": 15,
   "id": "10814ebd",
   "metadata": {},
   "outputs": [],
   "source": [
    "def yazdir():\n",
    "    print(\"yazdir\")"
   ]
  },
  {
   "cell_type": "code",
   "execution_count": 16,
   "id": "60771f8c",
   "metadata": {},
   "outputs": [],
   "source": [
    "yazdir = deco(yazdir)"
   ]
  },
  {
   "cell_type": "code",
   "execution_count": 17,
   "id": "d8ca7e9a",
   "metadata": {},
   "outputs": [
    {
     "name": "stdout",
     "output_type": "stream",
     "text": [
      "Baslangic\n",
      "yazdir\n",
      "Bitis\n"
     ]
    }
   ],
   "source": [
    "yazdir()"
   ]
  },
  {
   "cell_type": "code",
   "execution_count": 18,
   "id": "906384f1",
   "metadata": {},
   "outputs": [],
   "source": [
    "def deco(f):\n",
    "    def wrapper(*args):\n",
    "        print(\"Baslangic\")\n",
    "        \n",
    "        f(*args)\n",
    "        \n",
    "        print(\"Bitis\")\n",
    "        \n",
    "    return wrapper\n"
   ]
  },
  {
   "cell_type": "code",
   "execution_count": 21,
   "id": "3d8f96c1",
   "metadata": {},
   "outputs": [],
   "source": [
    "@deco\n",
    "def toplama(a,b):\n",
    "    print(a+b)\n",
    "    # burada basa yazdigimiz deco 16 calistirma kismida yaptigimiz atama yerine geciyor."
   ]
  },
  {
   "cell_type": "code",
   "execution_count": 22,
   "id": "48b5a4d9",
   "metadata": {},
   "outputs": [
    {
     "name": "stdout",
     "output_type": "stream",
     "text": [
      "Baslangic\n",
      "9\n",
      "Bitis\n"
     ]
    }
   ],
   "source": [
    "toplama(4,5)"
   ]
  },
  {
   "cell_type": "markdown",
   "id": "2da9429a",
   "metadata": {},
   "source": [
    "## Argüman alan decorator "
   ]
  },
  {
   "cell_type": "code",
   "execution_count": 25,
   "id": "fd32862c",
   "metadata": {},
   "outputs": [],
   "source": [
    "def deco(msg1,msg2):\n",
    "    def ara_katman (f):\n",
    "        def wrapper(*args):\n",
    "            print(msg1)\n",
    "\n",
    "            f(*args)\n",
    "\n",
    "            print(msg2)\n",
    "\n",
    "        return wrapper\n",
    "    return ara_katman"
   ]
  },
  {
   "cell_type": "code",
   "execution_count": 26,
   "id": "aebcbe8a",
   "metadata": {},
   "outputs": [],
   "source": [
    "@deco(\"Ilk\",\"Sonuc\")\n",
    "def toplama(a,b):\n",
    "    print(a+b)"
   ]
  },
  {
   "cell_type": "code",
   "execution_count": 27,
   "id": "cc8ed605",
   "metadata": {},
   "outputs": [
    {
     "name": "stdout",
     "output_type": "stream",
     "text": [
      "Ilk\n",
      "12\n",
      "Sonuc\n"
     ]
    }
   ],
   "source": [
    "toplama(5,7)"
   ]
  },
  {
   "cell_type": "markdown",
   "id": "e17cceb3",
   "metadata": {},
   "source": [
    "### Örnek-Süre Ölcümlemesi"
   ]
  },
  {
   "cell_type": "code",
   "execution_count": 28,
   "id": "6a3065a2",
   "metadata": {},
   "outputs": [
    {
     "data": {
      "text/plain": [
       "6.29425048828125e-05"
      ]
     },
     "execution_count": 28,
     "metadata": {},
     "output_type": "execute_result"
    }
   ],
   "source": [
    "import time\n",
    "baslangic = time.time()\n",
    "f()\n",
    "bitis=time.time()\n",
    "bitis-baslangic"
   ]
  },
  {
   "cell_type": "code",
   "execution_count": 31,
   "id": "82ce258c",
   "metadata": {},
   "outputs": [],
   "source": [
    "def sure_olc(f):\n",
    "    def wrapper(*args):\n",
    "        baslangic=time.time()\n",
    "        print(\"Baslangic Zamani: \\t{}\".format(baslangic))\n",
    "        \n",
    "        f(*args)\n",
    "        \n",
    "        bitis =time.time()\n",
    "        print(\"Bitis Zamani: \\t{}\".format(bitis))\n",
    "        print(\"Gecen Zaman: \\t{}\".format(bitis-baslangic))\n",
    "    return wrapper"
   ]
  },
  {
   "cell_type": "code",
   "execution_count": 35,
   "id": "2e7f9ebd",
   "metadata": {},
   "outputs": [],
   "source": [
    "@sure_olc\n",
    "def faktoryel(sayi):\n",
    "    toplam=1\n",
    "    while sayi>1:\n",
    "        toplam=toplam*sayi\n",
    "        sayi-=1\n",
    "        \n",
    "    print(toplam)"
   ]
  },
  {
   "cell_type": "code",
   "execution_count": 37,
   "id": "c3ae54a7",
   "metadata": {},
   "outputs": [
    {
     "name": "stdout",
     "output_type": "stream",
     "text": [
      "Baslangic Zamani: \t1645714463.075537\n",
      "3628800\n",
      "Bitis Zamani: \t1645714463.075626\n",
      "Gecen Zaman: \t8.893013000488281e-05\n"
     ]
    }
   ],
   "source": [
    "faktoryel(10)"
   ]
  }
 ],
 "metadata": {
  "kernelspec": {
   "display_name": "Python 3 (ipykernel)",
   "language": "python",
   "name": "python3"
  },
  "language_info": {
   "codemirror_mode": {
    "name": "ipython",
    "version": 3
   },
   "file_extension": ".py",
   "mimetype": "text/x-python",
   "name": "python",
   "nbconvert_exporter": "python",
   "pygments_lexer": "ipython3",
   "version": "3.9.7"
  }
 },
 "nbformat": 4,
 "nbformat_minor": 5
}
