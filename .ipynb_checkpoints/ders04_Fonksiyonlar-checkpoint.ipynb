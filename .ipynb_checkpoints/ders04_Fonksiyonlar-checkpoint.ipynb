{
 "cells": [
  {
   "cell_type": "markdown",
   "id": "f9b1d66f",
   "metadata": {},
   "source": [
    "# Fonksiyon Yapisi"
   ]
  },
  {
   "cell_type": "raw",
   "id": "f73de602",
   "metadata": {},
   "source": [
    "def <fonksiyon_ismi>(<argümanlar>): #snake_case (yazim sekli isimlendrime sekli)\n",
    "    \"\"\"\n",
    "    Bu kod ne ise yarar #docstring\n",
    "    \"\"\"\n",
    "    ...                 #return/print"
   ]
  },
  {
   "cell_type": "code",
   "execution_count": 2,
   "id": "730e63e4",
   "metadata": {},
   "outputs": [],
   "source": [
    "def bes_bastir():\n",
    "    \"\"\"\n",
    "    bu araya fonksiyonun islevin tanimlamak icin yazilabilecek ksimim icin tirnak isareti olusturulmasi gerekir\n",
    "    \"\"\"\n",
    "    print(5)"
   ]
  },
  {
   "cell_type": "code",
   "execution_count": 3,
   "id": "530fba60",
   "metadata": {},
   "outputs": [
    {
     "name": "stdout",
     "output_type": "stream",
     "text": [
      "5\n"
     ]
    }
   ],
   "source": [
    "bes_bastir()"
   ]
  },
  {
   "cell_type": "markdown",
   "id": "c3404b3c",
   "metadata": {},
   "source": [
    "# Fonksiyonlarda print ve return farki"
   ]
  },
  {
   "cell_type": "code",
   "execution_count": 4,
   "id": "6056ef41",
   "metadata": {},
   "outputs": [],
   "source": [
    "def bes_dondur():\n",
    "    return 5"
   ]
  },
  {
   "cell_type": "code",
   "execution_count": 5,
   "id": "21aa0a34",
   "metadata": {},
   "outputs": [
    {
     "data": {
      "text/plain": [
       "5"
      ]
     },
     "execution_count": 5,
     "metadata": {},
     "output_type": "execute_result"
    }
   ],
   "source": [
    "bes_dondur()"
   ]
  },
  {
   "cell_type": "code",
   "execution_count": 6,
   "id": "67838fd1",
   "metadata": {},
   "outputs": [],
   "source": [
    "def sayi_dondur(sayi):\n",
    "    return sayi"
   ]
  },
  {
   "cell_type": "code",
   "execution_count": 7,
   "id": "d463da61",
   "metadata": {},
   "outputs": [
    {
     "data": {
      "text/plain": [
       "100"
      ]
     },
     "execution_count": 7,
     "metadata": {},
     "output_type": "execute_result"
    }
   ],
   "source": [
    "sayi_dondur(100)"
   ]
  },
  {
   "cell_type": "code",
   "execution_count": 8,
   "id": "94acfcf0",
   "metadata": {},
   "outputs": [],
   "source": [
    "def sayi_dondur(sayi=250):\n",
    "    return sayi\n"
   ]
  },
  {
   "cell_type": "code",
   "execution_count": 9,
   "id": "7612d9b1",
   "metadata": {},
   "outputs": [
    {
     "data": {
      "text/plain": [
       "250"
      ]
     },
     "execution_count": 9,
     "metadata": {},
     "output_type": "execute_result"
    }
   ],
   "source": [
    "sayi_dondur() #defult degeri dondoruru ama sayi atarsak parantez icine o zaman yeni atadigimiz sayi dönüyor"
   ]
  },
  {
   "cell_type": "code",
   "execution_count": 10,
   "id": "502baab5",
   "metadata": {},
   "outputs": [],
   "source": [
    "def buyuk_sayi_dondur(a,b):\n",
    "    if a>b:\n",
    "        return a\n",
    "    elif b>a:\n",
    "        return b"
   ]
  },
  {
   "cell_type": "code",
   "execution_count": 11,
   "id": "4f1dcec5",
   "metadata": {},
   "outputs": [
    {
     "data": {
      "text/plain": [
       "10"
      ]
     },
     "execution_count": 11,
     "metadata": {},
     "output_type": "execute_result"
    }
   ],
   "source": [
    "buyuk_sayi_dondur(5,10)"
   ]
  },
  {
   "cell_type": "markdown",
   "id": "272640e1",
   "metadata": {},
   "source": [
    "# Fonsiyonlarin Birbiri ile iliskisi"
   ]
  },
  {
   "cell_type": "code",
   "execution_count": 12,
   "id": "7b1bdc4a",
   "metadata": {},
   "outputs": [],
   "source": [
    "def metin_yazdir(a,b):\n",
    "    buyuk_sayi=buyuk_sayi_dondur(a,b)\n",
    "    sablon_metin= \"{} daha büyük sayidir\".format(buyuk_sayi)\n",
    "    print(sablon_metin)"
   ]
  },
  {
   "cell_type": "code",
   "execution_count": 13,
   "id": "3f53c48c",
   "metadata": {},
   "outputs": [
    {
     "name": "stdout",
     "output_type": "stream",
     "text": [
      "10 daha büyük sayidir\n"
     ]
    }
   ],
   "source": [
    "metin_yazdir(5,10)"
   ]
  },
  {
   "cell_type": "markdown",
   "id": "15bcfd0b",
   "metadata": {},
   "source": [
    "# fonksiyonlar Birden Fazla Sonuc Döndürebilir"
   ]
  },
  {
   "cell_type": "code",
   "execution_count": 14,
   "id": "ff0f09f8",
   "metadata": {},
   "outputs": [
    {
     "data": {
      "text/plain": [
       "['Kerim', 'Yeter']"
      ]
     },
     "execution_count": 14,
     "metadata": {},
     "output_type": "execute_result"
    }
   ],
   "source": [
    "\"Kerim Yeter\".split()"
   ]
  },
  {
   "cell_type": "code",
   "execution_count": 15,
   "id": "f363d1bc",
   "metadata": {},
   "outputs": [],
   "source": [
    "def isim_soyisim_ayirma(isim_soyisim):\n",
    "    isim=isim_soyisim.split()[0]\n",
    "    soyisim=isim_soyisim.split()[1]\n",
    "    return isim, soyisim"
   ]
  },
  {
   "cell_type": "code",
   "execution_count": 16,
   "id": "faa47ce5",
   "metadata": {},
   "outputs": [
    {
     "data": {
      "text/plain": [
       "('Kerim', 'Yeter')"
      ]
     },
     "execution_count": 16,
     "metadata": {},
     "output_type": "execute_result"
    }
   ],
   "source": [
    "isim_soyisim_ayirma(\"Kerim Yeter\")"
   ]
  },
  {
   "cell_type": "code",
   "execution_count": 17,
   "id": "12f278d8",
   "metadata": {},
   "outputs": [
    {
     "name": "stdout",
     "output_type": "stream",
     "text": [
      "Kerim\n",
      "Yeter\n"
     ]
    }
   ],
   "source": [
    "a,b=isim_soyisim_ayirma(\"Kerim Yeter\")\n",
    "print(a)\n",
    "print(b)"
   ]
  },
  {
   "cell_type": "markdown",
   "id": "d62df2cd",
   "metadata": {},
   "source": [
    "# *args Argümanlar"
   ]
  },
  {
   "cell_type": "code",
   "execution_count": 18,
   "id": "670c50bc",
   "metadata": {},
   "outputs": [
    {
     "data": {
      "text/plain": [
       "'Kerim Yeter'"
      ]
     },
     "execution_count": 18,
     "metadata": {},
     "output_type": "execute_result"
    }
   ],
   "source": [
    "\" \".join([\"Kerim\", \"Yeter\"])"
   ]
  },
  {
   "cell_type": "code",
   "execution_count": 22,
   "id": "12e2d6bd",
   "metadata": {},
   "outputs": [],
   "source": [
    "def isim_soyisim_birlestirme(isim, soyisim):\n",
    "    return \" \".join([isim, soyisim])"
   ]
  },
  {
   "cell_type": "code",
   "execution_count": 23,
   "id": "58dcf1ab",
   "metadata": {},
   "outputs": [
    {
     "data": {
      "text/plain": [
       "'Fatih Aslan'"
      ]
     },
     "execution_count": 23,
     "metadata": {},
     "output_type": "execute_result"
    }
   ],
   "source": [
    "isim_soyisim_birlestirme(\"Fatih\", \"Aslan\")"
   ]
  },
  {
   "cell_type": "code",
   "execution_count": 25,
   "id": "82f8e5a1",
   "metadata": {},
   "outputs": [],
   "source": [
    "def isim_soyisim_birlestirme(*args):\n",
    "    return \" \".join(args)"
   ]
  },
  {
   "cell_type": "code",
   "execution_count": 26,
   "id": "fa3d725f",
   "metadata": {},
   "outputs": [
    {
     "data": {
      "text/plain": [
       "'Erol MEsut Gün'"
      ]
     },
     "execution_count": 26,
     "metadata": {},
     "output_type": "execute_result"
    }
   ],
   "source": [
    "isim_soyisim_birlestirme(\"Erol\",\"MEsut\",\"Gün\")"
   ]
  },
  {
   "cell_type": "code",
   "execution_count": 28,
   "id": "792604b8",
   "metadata": {},
   "outputs": [],
   "source": [
    "def gobek_adi_yazdir(**kwargs):\n",
    "    if 'gobekadi' in kwargs:\n",
    "        print(kwargs['gobekadi'])\n",
    "    else:\n",
    "        print(\"Göbekadi yok\")"
   ]
  },
  {
   "cell_type": "code",
   "execution_count": 29,
   "id": "d0b61efd",
   "metadata": {},
   "outputs": [
    {
     "name": "stdout",
     "output_type": "stream",
     "text": [
      "Fatih\n"
     ]
    }
   ],
   "source": [
    "gobek_adi_yazdir(ad=\"Kerim\",gobekadi=\"Fatih\",soyismi=\"Yeter\")"
   ]
  }
 ],
 "metadata": {
  "kernelspec": {
   "display_name": "Python 3 (ipykernel)",
   "language": "python",
   "name": "python3"
  },
  "language_info": {
   "codemirror_mode": {
    "name": "ipython",
    "version": 3
   },
   "file_extension": ".py",
   "mimetype": "text/x-python",
   "name": "python",
   "nbconvert_exporter": "python",
   "pygments_lexer": "ipython3",
   "version": "3.9.7"
  }
 },
 "nbformat": 4,
 "nbformat_minor": 5
}
