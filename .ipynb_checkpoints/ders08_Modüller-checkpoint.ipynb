{
 "cells": [
  {
   "cell_type": "markdown",
   "id": "3e62dbe9",
   "metadata": {},
   "source": [
    "# Magic Commands"
   ]
  },
  {
   "cell_type": "code",
   "execution_count": 1,
   "id": "15459b71",
   "metadata": {},
   "outputs": [
    {
     "name": "stdout",
     "output_type": "stream",
     "text": [
      "ders1_Kurulum test.ipynb\r\n",
      "ders1_ZGiris.ipynb\r\n",
      "ders2_Döngüler ve Sorgular.ipynb\r\n",
      "ders3_Veri_tipleri.ipynb\r\n",
      "ders4_Fonksiyonlar.ipynb\r\n",
      "ders5_map filter ve lambda.ipynb\r\n",
      "ders6_Try, Except ve Finally Komutlari.ipynb\r\n",
      "ders7_Class Yapisi ve OOP.ipynb\r\n",
      "ders8_Modüller.ipynb\r\n"
     ]
    }
   ],
   "source": [
    "%ls"
   ]
  },
  {
   "cell_type": "code",
   "execution_count": 2,
   "id": "c8d56033",
   "metadata": {},
   "outputs": [
    {
     "data": {
      "text/plain": [
       "'/Users/kerimmac/Desktop/payton_ders_notlari'"
      ]
     },
     "execution_count": 2,
     "metadata": {},
     "output_type": "execute_result"
    }
   ],
   "source": [
    "%pwd"
   ]
  },
  {
   "cell_type": "markdown",
   "id": "c19bf440",
   "metadata": {},
   "source": [
    "# OS modulü"
   ]
  },
  {
   "cell_type": "markdown",
   "id": "839eee6b",
   "metadata": {},
   "source": [
    "# # Navigasyon ve Icerik Listeleme"
   ]
  },
  {
   "cell_type": "code",
   "execution_count": 4,
   "id": "928607f3",
   "metadata": {},
   "outputs": [],
   "source": [
    "import os"
   ]
  },
  {
   "cell_type": "code",
   "execution_count": 5,
   "id": "33d58d04",
   "metadata": {},
   "outputs": [
    {
     "data": {
      "text/plain": [
       "'/Users/kerimmac/Desktop/payton_ders_notlari'"
      ]
     },
     "execution_count": 5,
     "metadata": {},
     "output_type": "execute_result"
    }
   ],
   "source": [
    "os.getcwd()"
   ]
  },
  {
   "cell_type": "code",
   "execution_count": 6,
   "id": "e6395b16",
   "metadata": {},
   "outputs": [
    {
     "data": {
      "text/plain": [
       "['ders4_Fonksiyonlar.ipynb',\n",
       " 'ders6_Try, Except ve Finally Komutlari.ipynb',\n",
       " 'ders7_Class Yapisi ve OOP.ipynb',\n",
       " '.DS_Store',\n",
       " 'ders1_Kurulum test.ipynb',\n",
       " 'ders2_Döngüler ve Sorgular.ipynb',\n",
       " 'ders8_Modüller.ipynb',\n",
       " 'ders1_ZGiris.ipynb',\n",
       " 'ders3_Veri_tipleri.ipynb',\n",
       " '.ipynb_checkpoints',\n",
       " 'ders5_map filter ve lambda.ipynb']"
      ]
     },
     "execution_count": 6,
     "metadata": {},
     "output_type": "execute_result"
    }
   ],
   "source": [
    "os.listdir()"
   ]
  },
  {
   "cell_type": "code",
   "execution_count": 9,
   "id": "82419f17",
   "metadata": {},
   "outputs": [
    {
     "ename": "FileNotFoundError",
     "evalue": "[Errno 2] No such file or directory: '/Desktop'",
     "output_type": "error",
     "traceback": [
      "\u001b[0;31m---------------------------------------------------------------------------\u001b[0m",
      "\u001b[0;31mFileNotFoundError\u001b[0m                         Traceback (most recent call last)",
      "\u001b[0;32m/var/folders/zr/gplv41sx3qv4dnmb67nn5kn00000gn/T/ipykernel_4384/817136676.py\u001b[0m in \u001b[0;36m<module>\u001b[0;34m\u001b[0m\n\u001b[0;32m----> 1\u001b[0;31m \u001b[0mos\u001b[0m\u001b[0;34m.\u001b[0m\u001b[0mlistdir\u001b[0m\u001b[0;34m(\u001b[0m\u001b[0;34m'/Desktop'\u001b[0m\u001b[0;34m)\u001b[0m\u001b[0;34m\u001b[0m\u001b[0;34m\u001b[0m\u001b[0m\n\u001b[0m",
      "\u001b[0;31mFileNotFoundError\u001b[0m: [Errno 2] No such file or directory: '/Desktop'"
     ]
    }
   ],
   "source": [
    "os.listdir('/Desktop')"
   ]
  },
  {
   "cell_type": "markdown",
   "id": "185cfcf4",
   "metadata": {},
   "source": [
    "## Yeni Eleman Olusturma, Isim degistirme ve Silme"
   ]
  },
  {
   "cell_type": "code",
   "execution_count": 10,
   "id": "f2753f84",
   "metadata": {},
   "outputs": [],
   "source": [
    "os.mkdir('/Users/kerimmac/Desktop/payton_ders_notlari/deneme_klasörü')\n",
    "#bu kisimda yeni bir klasör olusturma"
   ]
  },
  {
   "cell_type": "code",
   "execution_count": 11,
   "id": "5ebac411",
   "metadata": {},
   "outputs": [
    {
     "data": {
      "text/plain": [
       "['ders4_Fonksiyonlar.ipynb',\n",
       " 'ders6_Try, Except ve Finally Komutlari.ipynb',\n",
       " 'ders7_Class Yapisi ve OOP.ipynb',\n",
       " '.DS_Store',\n",
       " 'ders1_Kurulum test.ipynb',\n",
       " 'ders2_Döngüler ve Sorgular.ipynb',\n",
       " 'ders8_Modüller.ipynb',\n",
       " 'ders1_ZGiris.ipynb',\n",
       " 'ders3_Veri_tipleri.ipynb',\n",
       " '.ipynb_checkpoints',\n",
       " 'ders5_map filter ve lambda.ipynb',\n",
       " 'deneme_klasörü']"
      ]
     },
     "execution_count": 11,
     "metadata": {},
     "output_type": "execute_result"
    }
   ],
   "source": [
    "os.listdir()"
   ]
  },
  {
   "cell_type": "code",
   "execution_count": 12,
   "id": "105d561d",
   "metadata": {},
   "outputs": [],
   "source": [
    "os.rmdir('/Users/kerimmac/Desktop/payton_ders_notlari/deneme_klasörü')\n",
    "#olusturulan klasörü sildi"
   ]
  },
  {
   "cell_type": "code",
   "execution_count": 13,
   "id": "1178ba72",
   "metadata": {},
   "outputs": [
    {
     "data": {
      "text/plain": [
       "['ders4_Fonksiyonlar.ipynb',\n",
       " 'ders6_Try, Except ve Finally Komutlari.ipynb',\n",
       " 'ders7_Class Yapisi ve OOP.ipynb',\n",
       " '.DS_Store',\n",
       " 'ders1_Kurulum test.ipynb',\n",
       " 'ders2_Döngüler ve Sorgular.ipynb',\n",
       " 'ders8_Modüller.ipynb',\n",
       " 'ders1_ZGiris.ipynb',\n",
       " 'ders3_Veri_tipleri.ipynb',\n",
       " '.ipynb_checkpoints',\n",
       " 'ders5_map filter ve lambda.ipynb']"
      ]
     },
     "execution_count": 13,
     "metadata": {},
     "output_type": "execute_result"
    }
   ],
   "source": [
    "os.listdir()"
   ]
  },
  {
   "cell_type": "code",
   "execution_count": 14,
   "id": "f0b11216",
   "metadata": {},
   "outputs": [],
   "source": [
    "## os.O_RDONLY − Read Only      - Sadece Oku\n",
    "## os.O_WRONLY − Write Only     - Sadece Yaz\n",
    "## os.O_RDWR   − Read and Write - Oku ve Yaz\n",
    "## os.O_CREAT  - Create         - Olustur\n",
    "yeni_dosya = os.open('yeni_dosya.txt', os.O_RDWR|os.O_CREAT)\n",
    "os.write(yeni_dosya,'MErhaba Dünya!'.encode())\n",
    "os.close(yeni_dosya)"
   ]
  },
  {
   "cell_type": "code",
   "execution_count": 15,
   "id": "f5db5565",
   "metadata": {},
   "outputs": [
    {
     "name": "stdout",
     "output_type": "stream",
     "text": [
      "b'MErha'\n"
     ]
    }
   ],
   "source": [
    "yeni_dosya = os.open('yeni_dosya.txt', os.O_RDONLY)\n",
    "icerik = os.read(yeni_dosya,5)\n",
    "print(icerik)\n",
    "os.close(yeni_dosya)"
   ]
  },
  {
   "cell_type": "code",
   "execution_count": 16,
   "id": "a49ae3ca",
   "metadata": {},
   "outputs": [
    {
     "name": "stdout",
     "output_type": "stream",
     "text": [
      "MErhaba Dünya!\n"
     ]
    }
   ],
   "source": [
    "yeni_dosya = os.open('yeni_dosya.txt', os.O_RDONLY)\n",
    "istatistik = os.stat(yeni_dosya)\n",
    "uzunluk = os.stat(yeni_dosya).st_size\n",
    "icerik=os.read(yeni_dosya,uzunluk)\n",
    "print(icerik.decode())\n",
    "os.close(yeni_dosya)"
   ]
  },
  {
   "cell_type": "code",
   "execution_count": 17,
   "id": "c45d32b8",
   "metadata": {},
   "outputs": [],
   "source": [
    "os.unlink('yeni_dosya.txt')\n",
    "# olusturulan dosyayi sildik"
   ]
  },
  {
   "cell_type": "code",
   "execution_count": 18,
   "id": "91ea2e4e",
   "metadata": {},
   "outputs": [],
   "source": [
    "os.mkdir('denem_yeni')"
   ]
  },
  {
   "cell_type": "code",
   "execution_count": 19,
   "id": "29adebd9",
   "metadata": {},
   "outputs": [
    {
     "data": {
      "text/plain": [
       "['ders4_Fonksiyonlar.ipynb',\n",
       " 'ders6_Try, Except ve Finally Komutlari.ipynb',\n",
       " 'ders7_Class Yapisi ve OOP.ipynb',\n",
       " '.DS_Store',\n",
       " 'ders1_Kurulum test.ipynb',\n",
       " 'ders2_Döngüler ve Sorgular.ipynb',\n",
       " 'denem_yeni',\n",
       " 'ders8_Modüller.ipynb',\n",
       " 'ders1_ZGiris.ipynb',\n",
       " 'ders3_Veri_tipleri.ipynb',\n",
       " '.ipynb_checkpoints',\n",
       " 'ders5_map filter ve lambda.ipynb']"
      ]
     },
     "execution_count": 19,
     "metadata": {},
     "output_type": "execute_result"
    }
   ],
   "source": [
    "os.listdir()"
   ]
  },
  {
   "cell_type": "code",
   "execution_count": 23,
   "id": "5a8e061e",
   "metadata": {},
   "outputs": [],
   "source": [
    "os.rename(\"denem_yeni\",\"deneme_eski\")"
   ]
  },
  {
   "cell_type": "code",
   "execution_count": 24,
   "id": "86a3aaca",
   "metadata": {},
   "outputs": [
    {
     "data": {
      "text/plain": [
       "['deneme_eski',\n",
       " 'ders4_Fonksiyonlar.ipynb',\n",
       " 'ders6_Try, Except ve Finally Komutlari.ipynb',\n",
       " 'ders7_Class Yapisi ve OOP.ipynb',\n",
       " '.DS_Store',\n",
       " 'ders1_Kurulum test.ipynb',\n",
       " 'ders2_Döngüler ve Sorgular.ipynb',\n",
       " 'ders8_Modüller.ipynb',\n",
       " 'ders1_ZGiris.ipynb',\n",
       " 'ders3_Veri_tipleri.ipynb',\n",
       " '.ipynb_checkpoints',\n",
       " 'ders5_map filter ve lambda.ipynb']"
      ]
     },
     "execution_count": 24,
     "metadata": {},
     "output_type": "execute_result"
    }
   ],
   "source": [
    "os.listdir()"
   ]
  },
  {
   "cell_type": "code",
   "execution_count": 25,
   "id": "a2def08e",
   "metadata": {},
   "outputs": [],
   "source": [
    "os.rmdir(\"deneme_eski\")"
   ]
  }
 ],
 "metadata": {
  "kernelspec": {
   "display_name": "Python 3 (ipykernel)",
   "language": "python",
   "name": "python3"
  },
  "language_info": {
   "codemirror_mode": {
    "name": "ipython",
    "version": 3
   },
   "file_extension": ".py",
   "mimetype": "text/x-python",
   "name": "python",
   "nbconvert_exporter": "python",
   "pygments_lexer": "ipython3",
   "version": "3.9.7"
  }
 },
 "nbformat": 4,
 "nbformat_minor": 5
}
