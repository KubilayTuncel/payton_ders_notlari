{
 "cells": [
  {
   "cell_type": "markdown",
   "id": "a97d4ef5",
   "metadata": {},
   "source": [
    "# Try, Except ve Finally Komutlari"
   ]
  },
  {
   "cell_type": "code",
   "execution_count": 1,
   "id": "b8906747",
   "metadata": {},
   "outputs": [
    {
     "data": {
      "text/plain": [
       "1"
      ]
     },
     "execution_count": 1,
     "metadata": {},
     "output_type": "execute_result"
    }
   ],
   "source": [
    "round(1.3)"
   ]
  },
  {
   "cell_type": "code",
   "execution_count": 6,
   "id": "44c96a26",
   "metadata": {},
   "outputs": [],
   "source": [
    "def tam_sayiya_cevir():\n",
    "    girdi=input(\"Bir ondalik sayi giriniz: \")\n",
    "    print(\"Yuvarlama isleminin sonucu: {}\".format(round(float(girdi))))"
   ]
  },
  {
   "cell_type": "code",
   "execution_count": 7,
   "id": "d8784d03",
   "metadata": {},
   "outputs": [
    {
     "name": "stdout",
     "output_type": "stream",
     "text": [
      "Bir ondalik sayi giriniz: 1.2\n",
      "Yuvarlama isleminin sonucu: 1\n"
     ]
    }
   ],
   "source": [
    "tam_sayiya_cevir()"
   ]
  },
  {
   "cell_type": "code",
   "execution_count": 8,
   "id": "6caa435d",
   "metadata": {},
   "outputs": [],
   "source": [
    "def tam_sayiya_cevir():\n",
    "    girdi=input(\"Bir ondalik sayi giriniz: \")\n",
    "    try:\n",
    "        girdi=float(girdi)\n",
    "        print(\"Yuvarlama isleminin sonucu: {}\".format(round(girdi)))\n",
    "    except:\n",
    "        print(\"{} girdisi ondalik tipe cevrilemiyor\".format(girdi))"
   ]
  },
  {
   "cell_type": "code",
   "execution_count": 9,
   "id": "78d75bce",
   "metadata": {},
   "outputs": [
    {
     "name": "stdout",
     "output_type": "stream",
     "text": [
      "Bir ondalik sayi giriniz: a\n",
      "a girdisi ondalik tipe cevrilemiyor\n"
     ]
    }
   ],
   "source": [
    "tam_sayiya_cevir()"
   ]
  },
  {
   "cell_type": "code",
   "execution_count": 10,
   "id": "fd018e69",
   "metadata": {},
   "outputs": [
    {
     "name": "stdout",
     "output_type": "stream",
     "text": [
      "Bir ondalik sayi giriniz: 12.3\n",
      "Yuvarlama isleminin sonucu: 12\n"
     ]
    }
   ],
   "source": [
    "tam_sayiya_cevir()"
   ]
  },
  {
   "cell_type": "code",
   "execution_count": null,
   "id": "6bcc01b6",
   "metadata": {},
   "outputs": [],
   "source": [
    "def tam_sayiya_cevir():\n",
    "    girdi=input(\"Bir ondalik sayi giriniz: \")\n",
    "    try:\n",
    "        girdi=float(girdi)\n",
    "        \n",
    "    except:\n",
    "        print(\"{} girdisi ondalik tipe cevrilemiyor\".format(girdi))\n",
    "    else:\n",
    "        print(\"Yuvarlama isleminin sonucu: {}\".format(round(girdi)))"
   ]
  },
  {
   "cell_type": "code",
   "execution_count": 11,
   "id": "7d100e73",
   "metadata": {},
   "outputs": [],
   "source": [
    "def tam_sayiya_cevir():\n",
    "    girdi=input(\"Bir ondalik sayi giriniz: \")\n",
    "    status=''\n",
    "    try:\n",
    "        girdi=float(girdi)\n",
    "        print(\"Yuvarlama isleminin sonucu: {}\".format(round(girdi)))\n",
    "        status='basarili'\n",
    "        break\n",
    "    except:\n",
    "        print(\"{} girdisi ondalik tipe cevrilemiyor\".format(girdi))\n",
    "        status='basarisiz'\n",
    "        pass\n",
    "    finally:\n",
    "        print(\"tam sayiya cevirme islemi {} olarak tamamlandi\".format(status))"
   ]
  },
  {
   "cell_type": "code",
   "execution_count": 12,
   "id": "748a83eb",
   "metadata": {},
   "outputs": [
    {
     "name": "stdout",
     "output_type": "stream",
     "text": [
      "Bir ondalik sayi giriniz: 12.3\n",
      "Yuvarlama isleminin sonucu: 12\n",
      "tam sayiya cevirme islemi basarili olarak tamamlandi\n"
     ]
    }
   ],
   "source": [
    "tam_sayiya_cevir()"
   ]
  },
  {
   "cell_type": "code",
   "execution_count": 13,
   "id": "176a91d3",
   "metadata": {},
   "outputs": [
    {
     "name": "stdout",
     "output_type": "stream",
     "text": [
      "Bir ondalik sayi giriniz: a\n",
      "a girdisi ondalik tipe cevrilemiyor\n",
      "tam sayiya cevirme islemi basarisiz olarak tamamlandi\n"
     ]
    }
   ],
   "source": [
    "tam_sayiya_cevir()"
   ]
  },
  {
   "cell_type": "code",
   "execution_count": 16,
   "id": "2ed6ef92",
   "metadata": {},
   "outputs": [],
   "source": [
    "def tam_sayiya_cevir_dongu():\n",
    "    \n",
    "    status=''\n",
    "    while True:\n",
    "        girdi=input(\"Bir ondalik sayi giriniz: \")\n",
    "        try:\n",
    "            girdi=float(girdi)\n",
    "            print(\"Yuvarlama isleminin sonucu: {}\".format(round(girdi)))\n",
    "            status='basarili'\n",
    "            break\n",
    "        except:\n",
    "            print(\"{} girdisi ondalik tipe cevrilemiyor\".format(girdi))\n",
    "            status='basarisiz'\n",
    "            pass\n",
    "        finally:\n",
    "            print(\"tam sayiya cevirme islemi {} olarak tamamlandi\".format(status))"
   ]
  },
  {
   "cell_type": "code",
   "execution_count": 17,
   "id": "d0ccbd15",
   "metadata": {},
   "outputs": [
    {
     "name": "stdout",
     "output_type": "stream",
     "text": [
      "Bir ondalik sayi giriniz: s\n",
      "s girdisi ondalik tipe cevrilemiyor\n",
      "tam sayiya cevirme islemi basarisiz olarak tamamlandi\n",
      "Bir ondalik sayi giriniz: 12\n",
      "Yuvarlama isleminin sonucu: 12\n",
      "tam sayiya cevirme islemi basarili olarak tamamlandi\n"
     ]
    }
   ],
   "source": [
    "tam_sayiya_cevir_dongu()"
   ]
  },
  {
   "cell_type": "markdown",
   "id": "78a99da2",
   "metadata": {},
   "source": [
    "# Exception"
   ]
  },
  {
   "cell_type": "code",
   "execution_count": 18,
   "id": "a922461f",
   "metadata": {},
   "outputs": [
    {
     "ename": "TypeError",
     "evalue": "unsupported operand type(s) for +: 'int' and 'str'",
     "output_type": "error",
     "traceback": [
      "\u001b[0;31m---------------------------------------------------------------------------\u001b[0m",
      "\u001b[0;31mTypeError\u001b[0m                                 Traceback (most recent call last)",
      "\u001b[0;32m/var/folders/zr/gplv41sx3qv4dnmb67nn5kn00000gn/T/ipykernel_3970/2345018209.py\u001b[0m in \u001b[0;36m<module>\u001b[0;34m\u001b[0m\n\u001b[0;32m----> 1\u001b[0;31m \u001b[0;36m5\u001b[0m\u001b[0;34m+\u001b[0m\u001b[0;34m'a'\u001b[0m\u001b[0;34m\u001b[0m\u001b[0;34m\u001b[0m\u001b[0m\n\u001b[0m",
      "\u001b[0;31mTypeError\u001b[0m: unsupported operand type(s) for +: 'int' and 'str'"
     ]
    }
   ],
   "source": [
    "5+'a'"
   ]
  },
  {
   "cell_type": "code",
   "execution_count": 22,
   "id": "4fdeb737",
   "metadata": {},
   "outputs": [
    {
     "name": "stdout",
     "output_type": "stream",
     "text": [
      "Girilen verilerle islem yapilamiyor\n"
     ]
    }
   ],
   "source": [
    "try:\n",
    "    5+'a'\n",
    "except TypeError:\n",
    "    print(\"Girilen verilerle islem yapilamiyor\")"
   ]
  },
  {
   "cell_type": "code",
   "execution_count": 19,
   "id": "70c15529",
   "metadata": {},
   "outputs": [
    {
     "ename": "IndexError",
     "evalue": "list index out of range",
     "output_type": "error",
     "traceback": [
      "\u001b[0;31m---------------------------------------------------------------------------\u001b[0m",
      "\u001b[0;31mIndexError\u001b[0m                                Traceback (most recent call last)",
      "\u001b[0;32m/var/folders/zr/gplv41sx3qv4dnmb67nn5kn00000gn/T/ipykernel_3970/193355802.py\u001b[0m in \u001b[0;36m<module>\u001b[0;34m\u001b[0m\n\u001b[1;32m      1\u001b[0m \u001b[0mliste\u001b[0m\u001b[0;34m=\u001b[0m\u001b[0;34m[\u001b[0m\u001b[0;34m]\u001b[0m\u001b[0;34m\u001b[0m\u001b[0;34m\u001b[0m\u001b[0m\n\u001b[0;32m----> 2\u001b[0;31m \u001b[0mliste\u001b[0m\u001b[0;34m[\u001b[0m\u001b[0;36m4\u001b[0m\u001b[0;34m]\u001b[0m\u001b[0;34m\u001b[0m\u001b[0;34m\u001b[0m\u001b[0m\n\u001b[0m",
      "\u001b[0;31mIndexError\u001b[0m: list index out of range"
     ]
    }
   ],
   "source": [
    "liste=[]\n",
    "liste[4]"
   ]
  },
  {
   "cell_type": "code",
   "execution_count": 24,
   "id": "d71e9df4",
   "metadata": {},
   "outputs": [
    {
     "name": "stdout",
     "output_type": "stream",
     "text": [
      "Indexlemeye calistiginiz eleman listenin disinda\n"
     ]
    }
   ],
   "source": [
    "liste=[]\n",
    "try:\n",
    "    liste[-1]\n",
    "except IndexError:\n",
    "    print('Indexlemeye calistiginiz eleman listenin disinda')\n",
    "except:\n",
    "    print(\"Kod düzgün calismiyor\")"
   ]
  },
  {
   "cell_type": "code",
   "execution_count": 21,
   "id": "0f1918a7",
   "metadata": {},
   "outputs": [],
   "source": [
    "vatandas ={\n",
    "    \"ad\":'Oguz',\n",
    "    'Tc_No':'124334568'\n",
    "}"
   ]
  },
  {
   "cell_type": "code",
   "execution_count": 23,
   "id": "8f42d2a8",
   "metadata": {},
   "outputs": [
    {
     "ename": "KeyError",
     "evalue": "'lokasyon'",
     "output_type": "error",
     "traceback": [
      "\u001b[0;31m---------------------------------------------------------------------------\u001b[0m",
      "\u001b[0;31mKeyError\u001b[0m                                  Traceback (most recent call last)",
      "\u001b[0;32m/var/folders/zr/gplv41sx3qv4dnmb67nn5kn00000gn/T/ipykernel_3970/4041398164.py\u001b[0m in \u001b[0;36m<module>\u001b[0;34m\u001b[0m\n\u001b[0;32m----> 1\u001b[0;31m \u001b[0mvatandas\u001b[0m\u001b[0;34m[\u001b[0m\u001b[0;34m'lokasyon'\u001b[0m\u001b[0;34m]\u001b[0m\u001b[0;34m\u001b[0m\u001b[0;34m\u001b[0m\u001b[0m\n\u001b[0m",
      "\u001b[0;31mKeyError\u001b[0m: 'lokasyon'"
     ]
    }
   ],
   "source": [
    "vatandas['lokasyon']"
   ]
  },
  {
   "cell_type": "code",
   "execution_count": 25,
   "id": "6c9e70ac",
   "metadata": {},
   "outputs": [
    {
     "name": "stdout",
     "output_type": "stream",
     "text": [
      "Aranan dictionaryde verilen anahtar degeri mevcut degil\n"
     ]
    }
   ],
   "source": [
    "vatandas ={\n",
    "    \"ad\":'Oguz',\n",
    "    'Tc_No':'124334568'\n",
    "}\n",
    "try:\n",
    "    vatandas['PASS_NO']\n",
    "except IndexError:\n",
    "    print('Indexlemeye calistiginiz eleman listenin disinda')\n",
    "except KeyError:\n",
    "    print('Aranan dictionaryde verilen anahtar degeri mevcut degil')\n",
    "except:\n",
    "    print(\"Kod düzgün calismiyor\")"
   ]
  }
 ],
 "metadata": {
  "kernelspec": {
   "display_name": "Python 3 (ipykernel)",
   "language": "python",
   "name": "python3"
  },
  "language_info": {
   "codemirror_mode": {
    "name": "ipython",
    "version": 3
   },
   "file_extension": ".py",
   "mimetype": "text/x-python",
   "name": "python",
   "nbconvert_exporter": "python",
   "pygments_lexer": "ipython3",
   "version": "3.9.7"
  }
 },
 "nbformat": 4,
 "nbformat_minor": 5
}
