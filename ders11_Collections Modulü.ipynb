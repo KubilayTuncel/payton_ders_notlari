{
 "cells": [
  {
   "cell_type": "markdown",
   "id": "dee0d6d1",
   "metadata": {},
   "source": [
    "## Collections Module'ü"
   ]
  },
  {
   "cell_type": "code",
   "execution_count": 3,
   "id": "1831fbc5",
   "metadata": {},
   "outputs": [],
   "source": [
    "from collections import Counter\n",
    "import random"
   ]
  },
  {
   "cell_type": "code",
   "execution_count": 5,
   "id": "566d7022",
   "metadata": {},
   "outputs": [
    {
     "name": "stdout",
     "output_type": "stream",
     "text": [
      "[[3, 2, 4, 6], [7, 4, 5, 3], [0, 6, 8, 4], [8, 6, 2, 5]]\n",
      "[3, 2, 4, 6, 7, 4, 5, 3, 0, 6, 8, 4, 8, 6, 2, 5]\n"
     ]
    }
   ],
   "source": [
    "list1= random.sample(range(10), k=4)\n",
    "list2= random.sample(range(10), k=4)\n",
    "list3= random.sample(range(10), k=4)\n",
    "list4= random.sample(range(10), k=4)\n",
    "\n",
    "liste_listesi = [list1,list2,list3,list4]\n",
    "liste_toplam=list1+list2+list3+list4\n",
    "\n",
    "print(liste_listesi)\n",
    "print(liste_toplam)"
   ]
  },
  {
   "cell_type": "code",
   "execution_count": 7,
   "id": "e083e4ee",
   "metadata": {},
   "outputs": [
    {
     "name": "stdout",
     "output_type": "stream",
     "text": [
      "1. liste \\[3, 2, 4, 6]\n",
      "2. liste \\[7, 4, 5, 3]\n",
      "3. liste \\[0, 6, 8, 4]\n",
      "4. liste \\[8, 6, 2, 5]\n"
     ]
    },
    {
     "data": {
      "text/plain": [
       "Counter({3: 2, 2: 2, 4: 3, 6: 3, 7: 1, 5: 2, 0: 1, 8: 2})"
      ]
     },
     "execution_count": 7,
     "metadata": {},
     "output_type": "execute_result"
    }
   ],
   "source": [
    "for index, liste in enumerate(liste_listesi):\n",
    "    print ('{}. liste \\{}'.format(index+1,liste))\n",
    "Counter(liste_toplam)"
   ]
  },
  {
   "cell_type": "code",
   "execution_count": 8,
   "id": "c798b591",
   "metadata": {},
   "outputs": [
    {
     "data": {
      "text/plain": [
       "Counter({'s': 4,\n",
       "         'd': 2,\n",
       "         'a': 2,\n",
       "         'j': 2,\n",
       "         'i': 1,\n",
       "         'h': 2,\n",
       "         'f': 2,\n",
       "         'o': 1,\n",
       "         'e': 1,\n",
       "         'w': 1})"
      ]
     },
     "execution_count": 8,
     "metadata": {},
     "output_type": "execute_result"
    }
   ],
   "source": [
    "Counter(\"sdasdjasihjfsofhew\")"
   ]
  },
  {
   "cell_type": "code",
   "execution_count": 9,
   "id": "d0629349",
   "metadata": {},
   "outputs": [
    {
     "name": "stdout",
     "output_type": "stream",
     "text": [
      "\n",
      "Yine bana gel\n",
      "Yana yana yine beni sev\n",
      "Yine bana gel\n",
      "Yana yana yine beni sev\n",
      "\n"
     ]
    }
   ],
   "source": [
    "sarki = \"\"\"\n",
    "Yine bana gel\n",
    "Yana yana yine beni sev\n",
    "Yine bana gel\n",
    "Yana yana yine beni sev\n",
    "\"\"\"\n",
    "print(sarki)"
   ]
  },
  {
   "cell_type": "code",
   "execution_count": 10,
   "id": "fcc7887e",
   "metadata": {},
   "outputs": [
    {
     "data": {
      "text/plain": [
       "Counter({'\\n': 5,\n",
       "         'Y': 4,\n",
       "         'i': 6,\n",
       "         'n': 12,\n",
       "         'e': 10,\n",
       "         ' ': 12,\n",
       "         'b': 4,\n",
       "         'a': 12,\n",
       "         'g': 2,\n",
       "         'l': 2,\n",
       "         'y': 4,\n",
       "         's': 2,\n",
       "         'v': 2})"
      ]
     },
     "execution_count": 10,
     "metadata": {},
     "output_type": "execute_result"
    }
   ],
   "source": [
    "Counter(sarki)"
   ]
  },
  {
   "cell_type": "code",
   "execution_count": 11,
   "id": "9c24f0ca",
   "metadata": {},
   "outputs": [
    {
     "data": {
      "text/plain": [
       "Counter({'Yine': 2,\n",
       "         'bana': 2,\n",
       "         'gel': 2,\n",
       "         'Yana': 2,\n",
       "         'yana': 2,\n",
       "         'yine': 2,\n",
       "         'beni': 2,\n",
       "         'sev': 2})"
      ]
     },
     "execution_count": 11,
     "metadata": {},
     "output_type": "execute_result"
    }
   ],
   "source": [
    "Counter(sarki.split())"
   ]
  },
  {
   "cell_type": "code",
   "execution_count": 12,
   "id": "b222b50c",
   "metadata": {},
   "outputs": [
    {
     "data": {
      "text/plain": [
       "Counter({'yine': 4, 'bana': 2, 'gel': 2, 'yana': 4, 'beni': 2, 'sev': 2})"
      ]
     },
     "execution_count": 12,
     "metadata": {},
     "output_type": "execute_result"
    }
   ],
   "source": [
    "Counter(sarki.lower().split())"
   ]
  },
  {
   "cell_type": "code",
   "execution_count": 13,
   "id": "1fcf5974",
   "metadata": {},
   "outputs": [
    {
     "data": {
      "text/plain": [
       "[('yine', 4), ('yana', 4)]"
      ]
     },
     "execution_count": 13,
     "metadata": {},
     "output_type": "execute_result"
    }
   ],
   "source": [
    "Counter(sarki.lower().split()).most_common(2) #icerikte en fazla bulundugu kelimeleri döndürür ve icerisinde verdigimiz\n",
    "#degerde kac kelimenin en fazla icerdigine bakiyor"
   ]
  }
 ],
 "metadata": {
  "kernelspec": {
   "display_name": "Python 3 (ipykernel)",
   "language": "python",
   "name": "python3"
  },
  "language_info": {
   "codemirror_mode": {
    "name": "ipython",
    "version": 3
   },
   "file_extension": ".py",
   "mimetype": "text/x-python",
   "name": "python",
   "nbconvert_exporter": "python",
   "pygments_lexer": "ipython3",
   "version": "3.9.7"
  }
 },
 "nbformat": 4,
 "nbformat_minor": 5
}
