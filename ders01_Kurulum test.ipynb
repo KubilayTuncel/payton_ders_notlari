{
 "cells": [
  {
   "cell_type": "code",
   "execution_count": 14,
   "id": "63d7155f",
   "metadata": {},
   "outputs": [
    {
     "name": "stdout",
     "output_type": "stream",
     "text": [
      "hello \n",
      "world\n"
     ]
    }
   ],
   "source": [
    "print(\"hello \\nworld\")"
   ]
  },
  {
   "cell_type": "code",
   "execution_count": 6,
   "id": "cd5545d9",
   "metadata": {},
   "outputs": [
    {
     "name": "stdout",
     "output_type": "stream",
     "text": [
      "Selam\n",
      "Merhaba \tYakin Kampus\n"
     ]
    }
   ],
   "source": [
    "print(\"Selam\")\n",
    "print (\"Merhaba \\tYakin Kampus\")"
   ]
  },
  {
   "cell_type": "code",
   "execution_count": 13,
   "id": "1c69e6a8",
   "metadata": {},
   "outputs": [
    {
     "name": "stdout",
     "output_type": "stream",
     "text": [
      "benim adim Kerim, yasim 32\n",
      "benim adim Kerim, yasim 32\n",
      "benim adim Kerim, yasim 32\n"
     ]
    }
   ],
   "source": [
    "print (\"benim adim {}, yasim {}\".format('Kerim', 32))\n",
    "print (\"benim adim {0}, yasim {1}\".format('Kerim', 32))\n",
    "print (\"benim adim {ad}, yasim {yas}\".format(ad='Kerim', yas=32))"
   ]
  },
  {
   "cell_type": "code",
   "execution_count": 15,
   "id": "0d9bdfc4",
   "metadata": {},
   "outputs": [
    {
     "name": "stdout",
     "output_type": "stream",
     "text": [
      "10\n"
     ]
    }
   ],
   "source": [
    "sayi =10;\n",
    "print(sayi)"
   ]
  },
  {
   "cell_type": "code",
   "execution_count": 16,
   "id": "eeda381e",
   "metadata": {},
   "outputs": [
    {
     "name": "stdout",
     "output_type": "stream",
     "text": [
      "11\n"
     ]
    }
   ],
   "source": [
    "sayi= sayi+1\n",
    "print(sayi)"
   ]
  },
  {
   "cell_type": "code",
   "execution_count": 17,
   "id": "4cabf97c",
   "metadata": {},
   "outputs": [
    {
     "name": "stdout",
     "output_type": "stream",
     "text": [
      "10\n"
     ]
    }
   ],
   "source": [
    "sayi_ilk = 10\n",
    "print(sayi_ilk)"
   ]
  },
  {
   "cell_type": "markdown",
   "id": "66bb202d",
   "metadata": {},
   "source": [
    "# Yakin Kampüs "
   ]
  },
  {
   "cell_type": "markdown",
   "id": "7303e216",
   "metadata": {},
   "source": [
    "# 2. derse basladim"
   ]
  },
  {
   "cell_type": "code",
   "execution_count": null,
   "id": "cf38e256",
   "metadata": {},
   "outputs": [],
   "source": []
  }
 ],
 "metadata": {
  "kernelspec": {
   "display_name": "Python 3 (ipykernel)",
   "language": "python",
   "name": "python3"
  },
  "language_info": {
   "codemirror_mode": {
    "name": "ipython",
    "version": 3
   },
   "file_extension": ".py",
   "mimetype": "text/x-python",
   "name": "python",
   "nbconvert_exporter": "python",
   "pygments_lexer": "ipython3",
   "version": "3.9.7"
  }
 },
 "nbformat": 4,
 "nbformat_minor": 5
}
