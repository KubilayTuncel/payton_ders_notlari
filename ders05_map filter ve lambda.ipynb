{
 "cells": [
  {
   "cell_type": "markdown",
   "id": "2211259d",
   "metadata": {},
   "source": [
    "# Map, filter ve lambda Expressions"
   ]
  },
  {
   "cell_type": "code",
   "execution_count": 1,
   "id": "324cea09",
   "metadata": {},
   "outputs": [],
   "source": [
    "def karesini_al(x):\n",
    "    return x**2"
   ]
  },
  {
   "cell_type": "code",
   "execution_count": 2,
   "id": "bd452a67",
   "metadata": {},
   "outputs": [
    {
     "data": {
      "text/plain": [
       "25"
      ]
     },
     "execution_count": 2,
     "metadata": {},
     "output_type": "execute_result"
    }
   ],
   "source": [
    "karesini_al(5)"
   ]
  },
  {
   "cell_type": "code",
   "execution_count": 4,
   "id": "1ddcb893",
   "metadata": {},
   "outputs": [
    {
     "name": "stdout",
     "output_type": "stream",
     "text": [
      "[1, 4, 9, 16, 25]\n"
     ]
    }
   ],
   "source": [
    "sayilar=[*range(1,6)]\n",
    "for index in range(len(sayilar)):\n",
    "    sayilar[index]=karesini_al(sayilar[index])\n",
    "print(sayilar)"
   ]
  },
  {
   "cell_type": "code",
   "execution_count": 5,
   "id": "85766e57",
   "metadata": {},
   "outputs": [
    {
     "data": {
      "text/plain": [
       "[1, 16, 81, 256, 625]"
      ]
     },
     "execution_count": 5,
     "metadata": {},
     "output_type": "execute_result"
    }
   ],
   "source": [
    "[*map(karesini_al, sayilar)]"
   ]
  },
  {
   "cell_type": "code",
   "execution_count": 12,
   "id": "ae366068",
   "metadata": {},
   "outputs": [],
   "source": [
    "def cift_sayilari_filtrele(x):\n",
    "    if x%2==0:\n",
    "        return x"
   ]
  },
  {
   "cell_type": "code",
   "execution_count": 9,
   "id": "076ab6de",
   "metadata": {},
   "outputs": [],
   "source": [
    "def cift_sayilari_filtrele(x):\n",
    "    return x if x%2==0 else None"
   ]
  },
  {
   "cell_type": "code",
   "execution_count": 14,
   "id": "b591e22a",
   "metadata": {},
   "outputs": [
    {
     "data": {
      "text/plain": [
       "[2, 4]"
      ]
     },
     "execution_count": 14,
     "metadata": {},
     "output_type": "execute_result"
    }
   ],
   "source": [
    "sayilar = [*range(1,6)]\n",
    "[*filter(cift_sayilari_filtrele,sayilar)]"
   ]
  },
  {
   "cell_type": "code",
   "execution_count": 15,
   "id": "e1800218",
   "metadata": {},
   "outputs": [
    {
     "data": {
      "text/plain": [
       "[1, 4, 9, 16, 25, 36]"
      ]
     },
     "execution_count": 15,
     "metadata": {},
     "output_type": "execute_result"
    }
   ],
   "source": [
    "sayilar = [*range(1,7)]\n",
    "list(map(lambda sayi:sayi**2, sayilar))"
   ]
  },
  {
   "cell_type": "code",
   "execution_count": 17,
   "id": "f40f9879",
   "metadata": {},
   "outputs": [
    {
     "data": {
      "text/plain": [
       "[2, 4, 6]"
      ]
     },
     "execution_count": 17,
     "metadata": {},
     "output_type": "execute_result"
    }
   ],
   "source": [
    "sayilar = [*range(1,7)]\n",
    "[*filter(lambda x:x if x%2==0 else None, sayilar)]"
   ]
  },
  {
   "cell_type": "markdown",
   "id": "d235be96",
   "metadata": {},
   "source": [
    "# Kullanici Girdisi"
   ]
  },
  {
   "cell_type": "code",
   "execution_count": 18,
   "id": "6a327825",
   "metadata": {},
   "outputs": [
    {
     "name": "stdout",
     "output_type": "stream",
     "text": [
      "Bir sayi girin:18\n"
     ]
    },
    {
     "data": {
      "text/plain": [
       "'18'"
      ]
     },
     "execution_count": 18,
     "metadata": {},
     "output_type": "execute_result"
    }
   ],
   "source": [
    "input(\"Bir sayi girin:\")"
   ]
  },
  {
   "cell_type": "code",
   "execution_count": 19,
   "id": "a4ea45db",
   "metadata": {},
   "outputs": [
    {
     "name": "stdout",
     "output_type": "stream",
     "text": [
      "Bir sayi girin:18\n",
      "18\n"
     ]
    },
    {
     "data": {
      "text/plain": [
       "str"
      ]
     },
     "execution_count": 19,
     "metadata": {},
     "output_type": "execute_result"
    }
   ],
   "source": [
    "girdi = input(\"Bir sayi girin:\")\n",
    "print(girdi)\n",
    "type(girdi)"
   ]
  },
  {
   "cell_type": "code",
   "execution_count": 20,
   "id": "115916c3",
   "metadata": {},
   "outputs": [
    {
     "name": "stdout",
     "output_type": "stream",
     "text": [
      "Bir sayi girin:18\n",
      "18\n"
     ]
    },
    {
     "data": {
      "text/plain": [
       "int"
      ]
     },
     "execution_count": 20,
     "metadata": {},
     "output_type": "execute_result"
    }
   ],
   "source": [
    "girdi = input(\"Bir sayi girin:\")\n",
    "print(girdi)\n",
    "type(int(girdi))\n"
   ]
  },
  {
   "cell_type": "code",
   "execution_count": 21,
   "id": "5f697951",
   "metadata": {},
   "outputs": [],
   "source": [
    "def uygulama():\n",
    "    girdi=input(\"Bir sayi girin:\")\n",
    "    islem=input(\"Verinin tek mi cift mi olduunu sorgula:\")\n",
    "    if islem=='cift':\n",
    "        if int(girdi)%2==0:\n",
    "            return 'Evet bu bir cift sayidir'\n",
    "        else:\n",
    "            return 'Hayir bu bir cift sayi degildir'\n",
    "    elif islem=='tek':\n",
    "        if int(girdi)%2==1:\n",
    "            return 'Evet bu bir tek sayidir'\n",
    "        else:\n",
    "            return 'Hayir bu bir tek sayi degildir'"
   ]
  },
  {
   "cell_type": "code",
   "execution_count": 22,
   "id": "48519421",
   "metadata": {},
   "outputs": [
    {
     "name": "stdout",
     "output_type": "stream",
     "text": [
      "Bir sayi girin:5\n",
      "Verinin tek mi cift mi olduunu sorgula:tek\n"
     ]
    },
    {
     "data": {
      "text/plain": [
       "'Evet bu bir tek sayidir'"
      ]
     },
     "execution_count": 22,
     "metadata": {},
     "output_type": "execute_result"
    }
   ],
   "source": [
    "uygulama()"
   ]
  },
  {
   "cell_type": "markdown",
   "id": "9a7a11a7",
   "metadata": {},
   "source": [
    "# Kullanici Girdisini Onaylamak"
   ]
  },
  {
   "cell_type": "code",
   "execution_count": 23,
   "id": "30784d20",
   "metadata": {},
   "outputs": [],
   "source": [
    "def sayi_girdisi_kontrol():\n",
    "    girdi=input(\"Bir sayi giriniz:\")\n",
    "    \n",
    "    if girdi.isdigit():\n",
    "        print(\"Tebrikler! Syi tipi deger girdiniz\")\n",
    "    else:\n",
    "        print(\"Üzgünüm! Bu bir sayi tipi degisken degildir\")"
   ]
  },
  {
   "cell_type": "code",
   "execution_count": 24,
   "id": "b31cd7f1",
   "metadata": {},
   "outputs": [
    {
     "name": "stdout",
     "output_type": "stream",
     "text": [
      "Bir sayi giriniz:19\n",
      "Tebrikler! Syi tipi deger girdiniz\n"
     ]
    }
   ],
   "source": [
    "sayi_girdisi_kontrol()"
   ]
  },
  {
   "cell_type": "code",
   "execution_count": 36,
   "id": "d5d7371e",
   "metadata": {},
   "outputs": [],
   "source": [
    "def sayi_girdisi_kontrol_dongu():\n",
    "    girdi=input(\"Bir sayi giriniz:\")\n",
    "    tekrar = 1\n",
    "    while not girdi.isdigit():\n",
    "        print(\"Üzgünüm! Bu bir sayi tipi degisken degildir\")\n",
    "        girdi=input(\"Bir sayi giriniz:\")\n",
    "        tekrar+=1\n",
    "        if tekrar==5:\n",
    "            print(\"Deneme hakkiniz 5 oldu ve baska deneme yapamazsiniz\")\n",
    "            break\n",
    "    else:\n",
    "        print(\"Tebrikler! Syi tipi deger girdiniz\")"
   ]
  },
  {
   "cell_type": "code",
   "execution_count": 35,
   "id": "4459b36d",
   "metadata": {},
   "outputs": [
    {
     "name": "stdout",
     "output_type": "stream",
     "text": [
      "Bir sayi giriniz:s\n",
      "Üzgünüm! Bu bir sayi tipi degisken degildir\n",
      "Bir sayi giriniz:s\n",
      "Üzgünüm! Bu bir sayi tipi degisken degildir\n",
      "Bir sayi giriniz:s\n",
      "Üzgünüm! Bu bir sayi tipi degisken degildir\n",
      "Bir sayi giriniz:s\n",
      "Üzgünüm! Bu bir sayi tipi degisken degildir\n",
      "Bir sayi giriniz:s\n",
      "Deneme hakkiniz bes oldu ve baska deneme yapamazsiniz\n"
     ]
    }
   ],
   "source": [
    "sayi_girdisi_kontrol_dongu()"
   ]
  },
  {
   "cell_type": "code",
   "execution_count": 40,
   "id": "51a50515",
   "metadata": {},
   "outputs": [],
   "source": [
    "def eposta_kontrol():\n",
    "    girdi=input(\"Gecerli bir eposta adresi giriniz: \")\n",
    "    while not (('.' in girdi)and ('@' in girdi)):\n",
    "        print(\"Üzgünüm! Gecerli bir eposta adresi girmediniz\")\n",
    "        girdi=input(\"Gecerli bir eposta adresi giriniz: \")\n",
    "    else:\n",
    "        print(\"Tebrikler! Gecerli bir eposta adresi girdiniz\")"
   ]
  },
  {
   "cell_type": "code",
   "execution_count": 41,
   "id": "bf50407e",
   "metadata": {},
   "outputs": [
    {
     "name": "stdout",
     "output_type": "stream",
     "text": [
      "Gecerli bir eposta adresi girinizkerim\n",
      "Üzgünüm! Gecerli bir eposta adresi girmediniz\n",
      "Gecerli bir eposta adresi girinizsalih\n",
      "Üzgünüm! Gecerli bir eposta adresi girmediniz\n",
      "Gecerli bir eposta adresi girinizkerim.yeter\n",
      "Üzgünüm! Gecerli bir eposta adresi girmediniz\n",
      "Gecerli bir eposta adresi girinizkerimyeter@gmail.com\n",
      "Tebrikler! Gecerli bir eposta adresi girdiniz\n"
     ]
    }
   ],
   "source": [
    "eposta_kontrol()"
   ]
  }
 ],
 "metadata": {
  "kernelspec": {
   "display_name": "Python 3 (ipykernel)",
   "language": "python",
   "name": "python3"
  },
  "language_info": {
   "codemirror_mode": {
    "name": "ipython",
    "version": 3
   },
   "file_extension": ".py",
   "mimetype": "text/x-python",
   "name": "python",
   "nbconvert_exporter": "python",
   "pygments_lexer": "ipython3",
   "version": "3.9.7"
  }
 },
 "nbformat": 4,
 "nbformat_minor": 5
}
