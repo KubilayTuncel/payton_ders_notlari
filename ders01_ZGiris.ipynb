{
 "cells": [
  {
   "cell_type": "markdown",
   "id": "cb122cff",
   "metadata": {},
   "source": [
    "Veri Tipleri"
   ]
  },
  {
   "cell_type": "markdown",
   "id": "487dc128",
   "metadata": {},
   "source": [
    "int: sayilar icin, float ondalikli sayilar icin,\n",
    "str: (string) yazi karakterleri icin,\n",
    "bool: (boolean) true false icin,\n",
    "list: listeleme icin ve gösterim sekli [1,2,True,'a'],\n",
    "set; birden fazla eleman iceren bir collection listten farki, birden fazla tekrar eden elamanlari tek bir ifade olarak geri döndürüyür. Gösterim sekli : {1,2,True,'a'}\n",
    "dict (Dictionary) Maplere benziyor ve key value sistemiyle calisiyorGösterim sekli : {'isim:'Kerim','yas':32}\n",
    "Tuple tup degistirilemeyen degerler bulunmakta ve sonrasinda degistirmek mümkün degil Gös. sekli : (1,2,True)"
   ]
  },
  {
   "cell_type": "code",
   "execution_count": 1,
   "id": "a4e9bc58",
   "metadata": {},
   "outputs": [
    {
     "name": "stdout",
     "output_type": "stream",
     "text": [
      "5\n"
     ]
    }
   ],
   "source": [
    "print(5)"
   ]
  },
  {
   "cell_type": "code",
   "execution_count": 2,
   "id": "f415ded4",
   "metadata": {},
   "outputs": [
    {
     "data": {
      "text/plain": [
       "int"
      ]
     },
     "execution_count": 2,
     "metadata": {},
     "output_type": "execute_result"
    }
   ],
   "source": [
    "type(3)"
   ]
  },
  {
   "cell_type": "code",
   "execution_count": 3,
   "id": "87cfb01f",
   "metadata": {},
   "outputs": [
    {
     "data": {
      "text/plain": [
       "7"
      ]
     },
     "execution_count": 3,
     "metadata": {},
     "output_type": "execute_result"
    }
   ],
   "source": [
    "3+4"
   ]
  },
  {
   "cell_type": "markdown",
   "id": "22c0fd2d",
   "metadata": {},
   "source": []
  },
  {
   "cell_type": "code",
   "execution_count": 4,
   "id": "ed969c60",
   "metadata": {},
   "outputs": [
    {
     "data": {
      "text/plain": [
       "2"
      ]
     },
     "execution_count": 4,
     "metadata": {},
     "output_type": "execute_result"
    }
   ],
   "source": [
    "5%3"
   ]
  },
  {
   "cell_type": "code",
   "execution_count": 5,
   "id": "c463322d",
   "metadata": {},
   "outputs": [
    {
     "data": {
      "text/plain": [
       "13"
      ]
     },
     "execution_count": 5,
     "metadata": {},
     "output_type": "execute_result"
    }
   ],
   "source": [
    "3+2*5"
   ]
  },
  {
   "cell_type": "code",
   "execution_count": 6,
   "id": "e11badcd",
   "metadata": {},
   "outputs": [
    {
     "data": {
      "text/plain": [
       "6.2"
      ]
     },
     "execution_count": 6,
     "metadata": {},
     "output_type": "execute_result"
    }
   ],
   "source": [
    "3.1*2"
   ]
  },
  {
   "cell_type": "code",
   "execution_count": 7,
   "id": "6f5f8752",
   "metadata": {},
   "outputs": [
    {
     "data": {
      "text/plain": [
       "15.0"
      ]
     },
     "execution_count": 7,
     "metadata": {},
     "output_type": "execute_result"
    }
   ],
   "source": [
    "3.0*5"
   ]
  },
  {
   "cell_type": "code",
   "execution_count": null,
   "id": "269814ea",
   "metadata": {},
   "outputs": [],
   "source": []
  }
 ],
 "metadata": {
  "kernelspec": {
   "display_name": "Python 3 (ipykernel)",
   "language": "python",
   "name": "python3"
  },
  "language_info": {
   "codemirror_mode": {
    "name": "ipython",
    "version": 3
   },
   "file_extension": ".py",
   "mimetype": "text/x-python",
   "name": "python",
   "nbconvert_exporter": "python",
   "pygments_lexer": "ipython3",
   "version": "3.9.7"
  }
 },
 "nbformat": 4,
 "nbformat_minor": 5
}
